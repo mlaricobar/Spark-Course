{
  "nbformat": 4,
  "nbformat_minor": 0,
  "metadata": {
    "colab": {
      "name": "Welcome To Colaboratory",
      "provenance": [],
      "collapsed_sections": [],
      "include_colab_link": true
    },
    "kernelspec": {
      "name": "python3",
      "display_name": "Python 3"
    }
  },
  "cells": [
    {
      "cell_type": "markdown",
      "metadata": {
        "id": "view-in-github",
        "colab_type": "text"
      },
      "source": [
        "<a href=\"https://colab.research.google.com/github/mlaricobar/Spark-Course/blob/master/%5BT-01-ES%5D%20Construcci%C3%B3n%20de%20Modelo%20de%20Propensi%C3%B3n.ipynb\" target=\"_parent\"><img src=\"https://colab.research.google.com/assets/colab-badge.svg\" alt=\"Open In Colab\"/></a>"
      ]
    },
    {
      "cell_type": "markdown",
      "metadata": {
        "id": "uHAIiNrLWgG3",
        "colab_type": "text"
      },
      "source": [
        "### 1. Configurar Spark en Google COLAB"
      ]
    },
    {
      "cell_type": "code",
      "metadata": {
        "id": "A02N9IjKYyq6",
        "colab_type": "code",
        "colab": {}
      },
      "source": [
        "!apt-get install openjdk-8-jdk-headless -qq > /dev/null"
      ],
      "execution_count": 0,
      "outputs": []
    },
    {
      "cell_type": "code",
      "metadata": {
        "id": "ZMfCcwZWYyip",
        "colab_type": "code",
        "colab": {
          "base_uri": "https://localhost:8080/",
          "height": 187
        },
        "outputId": "eb63eda7-8f1d-4f6a-a26b-525575a82225"
      },
      "source": [
        "!ls -l /usr/lib/jvm/java-8-openjdk-amd64"
      ],
      "execution_count": 2,
      "outputs": [
        {
          "output_type": "stream",
          "text": [
            "total 20\n",
            "lrwxrwxrwx 1 root root   22 Oct 16 20:38 ASSEMBLY_EXCEPTION -> jre/ASSEMBLY_EXCEPTION\n",
            "drwxr-xr-x 2 root root 4096 Dec 18 16:47 bin\n",
            "lrwxrwxrwx 1 root root   41 Oct 16 20:38 docs -> ../../../share/doc/openjdk-8-jre-headless\n",
            "drwxr-xr-x 3 root root 4096 Dec 18 16:47 include\n",
            "drwxr-xr-x 5 root root 4096 Dec 18 16:45 jre\n",
            "drwxr-xr-x 3 root root 4096 Dec 18 16:47 lib\n",
            "drwxr-xr-x 4 root root 4096 Dec 18 16:45 man\n",
            "lrwxrwxrwx 1 root root   20 Oct 16 20:38 src.zip -> ../openjdk-8/src.zip\n",
            "lrwxrwxrwx 1 root root   22 Oct 16 20:38 THIRD_PARTY_README -> jre/THIRD_PARTY_README\n"
          ],
          "name": "stdout"
        }
      ]
    },
    {
      "cell_type": "code",
      "metadata": {
        "id": "4f8fW4r0ZzYB",
        "colab_type": "code",
        "colab": {}
      },
      "source": [
        "import os"
      ],
      "execution_count": 0,
      "outputs": []
    },
    {
      "cell_type": "code",
      "metadata": {
        "id": "Y7J-1-CBZvE_",
        "colab_type": "code",
        "colab": {}
      },
      "source": [
        "os.environ[\"JAVA_HOME\"] = \"/usr/lib/jvm/java-8-openjdk-amd64\""
      ],
      "execution_count": 0,
      "outputs": []
    },
    {
      "cell_type": "markdown",
      "metadata": {
        "id": "1gqsRz7UPrwi",
        "colab_type": "text"
      },
      "source": [
        "### 2. Leyendo datos desde Google Drive"
      ]
    },
    {
      "cell_type": "code",
      "metadata": {
        "id": "XvFQFO0IO6g1",
        "colab_type": "code",
        "colab": {
          "base_uri": "https://localhost:8080/",
          "height": 34
        },
        "outputId": "0075e772-d335-4311-a29f-e3002d944d52"
      },
      "source": [
        "from google.colab import drive\n",
        "drive.mount('/gdrive')"
      ],
      "execution_count": 5,
      "outputs": [
        {
          "output_type": "stream",
          "text": [
            "Drive already mounted at /gdrive; to attempt to forcibly remount, call drive.mount(\"/gdrive\", force_remount=True).\n"
          ],
          "name": "stdout"
        }
      ]
    },
    {
      "cell_type": "code",
      "metadata": {
        "id": "7zBrnCesO9fu",
        "colab_type": "code",
        "colab": {
          "base_uri": "https://localhost:8080/",
          "height": 34
        },
        "outputId": "106edc86-dfa9-4853-9b44-b75bf156f0fb"
      },
      "source": [
        "%cd /gdrive/'My Drive'/Competiciones/'[03] Datathon Interbank'/'[00] Data'"
      ],
      "execution_count": 6,
      "outputs": [
        {
          "output_type": "stream",
          "text": [
            "/gdrive/My Drive/Competiciones/[03] Datathon Interbank/[00] Data\n"
          ],
          "name": "stdout"
        }
      ]
    },
    {
      "cell_type": "code",
      "metadata": {
        "id": "ukIFSNo8O9cx",
        "colab_type": "code",
        "colab": {
          "base_uri": "https://localhost:8080/",
          "height": 170
        },
        "outputId": "50e1b70f-b852-4f0a-e368-140f10f60fc5"
      },
      "source": [
        "!ls -lh "
      ],
      "execution_count": 7,
      "outputs": [
        {
          "output_type": "stream",
          "text": [
            "total 790M\n",
            "-rw------- 1 root root 199M Dec  2 00:27 ib_base_campanias.csv\n",
            "-rw------- 1 root root  16M Dec  2 00:27 ib_base_digital.csv\n",
            "-rw------- 1 root root 8.0M Dec  2 00:27 ib_base_inicial_test.csv\n",
            "-rw------- 1 root root 8.2M Dec  2 00:27 ib_base_inicial_train.csv\n",
            "-rw------- 1 root root 545M Dec  2 00:27 ib_base_rcc.csv\n",
            "-rw------- 1 root root 9.5M Dec  2 00:27 ib_base_reniec.csv\n",
            "-rw------- 1 root root 3.8M Dec  2 00:27 ib_base_sunat.csv\n",
            "-rw------- 1 root root 2.9M Dec  2 00:27 ib_base_vehicular.csv\n"
          ],
          "name": "stdout"
        }
      ]
    },
    {
      "cell_type": "markdown",
      "metadata": {
        "id": "XP1B8WF6Pw5N",
        "colab_type": "text"
      },
      "source": [
        "### Loading Data"
      ]
    },
    {
      "cell_type": "code",
      "metadata": {
        "id": "H9aNa571JltY",
        "colab_type": "code",
        "colab": {
          "base_uri": "https://localhost:8080/",
          "height": 51
        },
        "outputId": "c6a93d42-6f96-4534-b704-9296b458cd5b"
      },
      "source": [
        "!pip install pyspark"
      ],
      "execution_count": 8,
      "outputs": [
        {
          "output_type": "stream",
          "text": [
            "Requirement already satisfied: pyspark in /usr/local/lib/python3.6/dist-packages (2.4.4)\n",
            "Requirement already satisfied: py4j==0.10.7 in /usr/local/lib/python3.6/dist-packages (from pyspark) (0.10.7)\n"
          ],
          "name": "stdout"
        }
      ]
    },
    {
      "cell_type": "code",
      "metadata": {
        "id": "E9Hofvw3JlrK",
        "colab_type": "code",
        "colab": {}
      },
      "source": [
        "import pyspark.sql.functions as F\n",
        "from pyspark.sql import SparkSession"
      ],
      "execution_count": 0,
      "outputs": []
    },
    {
      "cell_type": "code",
      "metadata": {
        "id": "8himEl6eWBZG",
        "colab_type": "code",
        "colab": {}
      },
      "source": [
        "import pandas as pd"
      ],
      "execution_count": 0,
      "outputs": []
    },
    {
      "cell_type": "code",
      "metadata": {
        "id": "lv_EhcXiQJpZ",
        "colab_type": "code",
        "colab": {}
      },
      "source": [
        "spark = SparkSession.builder.master(\"local[*]\").getOrCreate()"
      ],
      "execution_count": 0,
      "outputs": []
    },
    {
      "cell_type": "code",
      "metadata": {
        "id": "T46YGKnDWAe9",
        "colab_type": "code",
        "colab": {}
      },
      "source": [
        "df_train = pd.read_csv(\"ib_base_inicial_train.csv\")"
      ],
      "execution_count": 0,
      "outputs": []
    },
    {
      "cell_type": "code",
      "metadata": {
        "id": "HEBFycPFWHJX",
        "colab_type": "code",
        "colab": {}
      },
      "source": [
        "#sdf_train = spark.read.csv(\"ib_base_inicial_train.csv\", inferSchema=True, header =True)\n",
        "sdf_train = spark.createDataFrame(df_train)"
      ],
      "execution_count": 0,
      "outputs": []
    },
    {
      "cell_type": "code",
      "metadata": {
        "id": "W5F4M6ouWNhG",
        "colab_type": "code",
        "colab": {
          "base_uri": "https://localhost:8080/",
          "height": 459
        },
        "outputId": "0f67208d-6645-4e06-bc71-a47ec94ffc3d"
      },
      "source": [
        "sdf_train.show()"
      ],
      "execution_count": 14,
      "outputs": [
        {
          "output_type": "stream",
          "text": [
            "+------+----------+---------+--------+------+------------+--------------+\n",
            "|codmes|id_persona|codtarget|  margen|   cem|ingreso_neto|linea_ofrecida|\n",
            "+------+----------+---------+--------+------+------------+--------------+\n",
            "|201901|    165747|        0|    -5.0|   1.0|      1781.0|          1700|\n",
            "|201903|    100117|        0|    -5.0| 478.0|      2106.0|          2100|\n",
            "|201901|     65751|        1|  342.99| 687.0|      3083.0|          4600|\n",
            "|201901|     58047|        0|    -5.0| 182.0|      1814.0|          3600|\n",
            "|201901|    113221|        0|    -5.0| 582.0|      2153.0|          4300|\n",
            "|201903|    247481|        0|    -5.0| 344.0|      1325.0|          1300|\n",
            "|201902|      2651|        0|    -5.0|4507.0|      9344.0|         23300|\n",
            "|201902|      5164|        0|    -5.0| 310.0|      3166.0|          6300|\n",
            "|201902|     81364|        0|    -5.0| 791.0|      1870.0|          1800|\n",
            "|201901|    142634|        0|    -5.0|4058.0|      7342.0|         33000|\n",
            "|201904|     31864|        0|    -5.0| 577.0|      1750.0|          1200|\n",
            "|201903|    204321|        0|    -5.0| 352.0|      1423.0|          3500|\n",
            "|201902|    206604|        1|    -5.0| 531.0|      2520.0|          8800|\n",
            "|201903|    230894|        0|    -5.0|1024.0|      3024.0|         16600|\n",
            "|201903|      2451|        1|   -4.67| 324.0|      4536.0|          6800|\n",
            "|201904|     95347|        1|37.07786| 831.0|      2662.0|          5300|\n",
            "|201901|     13204|        0|    -5.0| 126.0|      4776.0|         11900|\n",
            "|201902|    236904|        0|    -5.0| 409.0|      1955.0|          3900|\n",
            "|201902|     76777|        0|    -5.0|2520.0|      4870.0|         21900|\n",
            "|201903|    230317|        0|    -5.0|1272.0|      3007.0|         12000|\n",
            "+------+----------+---------+--------+------+------------+--------------+\n",
            "only showing top 20 rows\n",
            "\n"
          ],
          "name": "stdout"
        }
      ]
    },
    {
      "cell_type": "code",
      "metadata": {
        "id": "RZGc22KMWNeG",
        "colab_type": "code",
        "colab": {
          "base_uri": "https://localhost:8080/",
          "height": 34
        },
        "outputId": "8ad82588-ca5c-4edd-8cfc-7b5e417e7d60"
      },
      "source": [
        "sdf_train.count()"
      ],
      "execution_count": 15,
      "outputs": [
        {
          "output_type": "execute_result",
          "data": {
            "text/plain": [
              "212665"
            ]
          },
          "metadata": {
            "tags": []
          },
          "execution_count": 15
        }
      ]
    },
    {
      "cell_type": "markdown",
      "metadata": {
        "id": "Cxc4uIXpa__w",
        "colab_type": "text"
      },
      "source": [
        "### Feature Engineering"
      ]
    },
    {
      "cell_type": "code",
      "metadata": {
        "id": "z6-znRBiWHGv",
        "colab_type": "code",
        "colab": {}
      },
      "source": [
        ""
      ],
      "execution_count": 0,
      "outputs": []
    },
    {
      "cell_type": "code",
      "metadata": {
        "id": "MLjBV7-7O6YE",
        "colab_type": "code",
        "colab": {}
      },
      "source": [
        ""
      ],
      "execution_count": 0,
      "outputs": []
    },
    {
      "cell_type": "code",
      "metadata": {
        "id": "gn_0oNjNRJUx",
        "colab_type": "code",
        "colab": {}
      },
      "source": [
        ""
      ],
      "execution_count": 0,
      "outputs": []
    },
    {
      "cell_type": "markdown",
      "metadata": {
        "id": "XqVS272ZbEPN",
        "colab_type": "text"
      },
      "source": [
        "### Model Building"
      ]
    },
    {
      "cell_type": "code",
      "metadata": {
        "id": "CpwwVYBWbGtN",
        "colab_type": "code",
        "colab": {}
      },
      "source": [
        ""
      ],
      "execution_count": 0,
      "outputs": []
    },
    {
      "cell_type": "code",
      "metadata": {
        "id": "q8t0aX4vbGhi",
        "colab_type": "code",
        "colab": {}
      },
      "source": [
        ""
      ],
      "execution_count": 0,
      "outputs": []
    },
    {
      "cell_type": "code",
      "metadata": {
        "id": "gposHK3sbGZp",
        "colab_type": "code",
        "colab": {}
      },
      "source": [
        ""
      ],
      "execution_count": 0,
      "outputs": []
    },
    {
      "cell_type": "markdown",
      "metadata": {
        "id": "pVZP1lPibEKo",
        "colab_type": "text"
      },
      "source": [
        "### Model Evaluation"
      ]
    },
    {
      "cell_type": "code",
      "metadata": {
        "id": "OOe35GNhbJAx",
        "colab_type": "code",
        "colab": {}
      },
      "source": [
        ""
      ],
      "execution_count": 0,
      "outputs": []
    },
    {
      "cell_type": "markdown",
      "metadata": {
        "id": "-HH_F5lzbJjX",
        "colab_type": "text"
      },
      "source": [
        "### Tuning Hyperparameters"
      ]
    },
    {
      "cell_type": "code",
      "metadata": {
        "id": "i34tnhpCbNtA",
        "colab_type": "code",
        "colab": {}
      },
      "source": [
        ""
      ],
      "execution_count": 0,
      "outputs": []
    },
    {
      "cell_type": "code",
      "metadata": {
        "id": "aiXETFIqbNqH",
        "colab_type": "code",
        "colab": {}
      },
      "source": [
        ""
      ],
      "execution_count": 0,
      "outputs": []
    },
    {
      "cell_type": "markdown",
      "metadata": {
        "id": "Ich7fvz0bJf4",
        "colab_type": "text"
      },
      "source": [
        "### Model Deployment"
      ]
    },
    {
      "cell_type": "code",
      "metadata": {
        "id": "tPy2uRqdbP0i",
        "colab_type": "code",
        "colab": {}
      },
      "source": [
        ""
      ],
      "execution_count": 0,
      "outputs": []
    }
  ]
}