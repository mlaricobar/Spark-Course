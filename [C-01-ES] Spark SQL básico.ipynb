{
  "nbformat": 4,
  "nbformat_minor": 0,
  "metadata": {
    "kernelspec": {
      "display_name": "Python 3",
      "language": "python",
      "name": "python3"
    },
    "language_info": {
      "codemirror_mode": {
        "name": "ipython",
        "version": 3
      },
      "file_extension": ".py",
      "mimetype": "text/x-python",
      "name": "python",
      "nbconvert_exporter": "python",
      "pygments_lexer": "ipython3",
      "version": "3.7.1"
    },
    "toc": {
      "base_numbering": 1,
      "nav_menu": {},
      "number_sections": false,
      "sideBar": true,
      "skip_h1_title": false,
      "title_cell": "Table of Contents",
      "title_sidebar": "Contents",
      "toc_cell": false,
      "toc_position": {},
      "toc_section_display": true,
      "toc_window_display": true
    },
    "colab": {
      "name": "[C-01-ES] Spark SQL básico.ipynb",
      "provenance": [],
      "include_colab_link": true
    }
  },
  "cells": [
    {
      "cell_type": "markdown",
      "metadata": {
        "id": "view-in-github",
        "colab_type": "text"
      },
      "source": [
        "<a href=\"https://colab.research.google.com/github/mlaricobar/Spark-Course/blob/master/%5BC-01-ES%5D%20Spark%20SQL%20ba%CC%81sico.ipynb\" target=\"_parent\"><img src=\"https://colab.research.google.com/assets/colab-badge.svg\" alt=\"Open In Colab\"/></a>"
      ]
    },
    {
      "cell_type": "code",
      "metadata": {
        "id": "BTiy_sukdcHr",
        "colab_type": "code",
        "colab": {}
      },
      "source": [
        "# Global data variables\n",
        "SANDBOX_NAME = # Sandbox Name\n",
        "DATA_PATH = \"/data/sandboxes/\" + SANDBOX_NAME + \"/data/data/\" "
      ],
      "execution_count": 0,
      "outputs": []
    },
    {
      "cell_type": "markdown",
      "metadata": {
        "id": "GVdrFwUndcHv",
        "colab_type": "text"
      },
      "source": [
        "\n",
        "# SparkSession & SparkContext"
      ]
    },
    {
      "cell_type": "markdown",
      "metadata": {
        "id": "DuLKzeJXdcHw",
        "colab_type": "text"
      },
      "source": [
        "\n",
        "\n",
        "En versiones de Spark anteriores a 2.0.0, __sparkContext__ era usado como el canal para acceder a todas las funcionalidades de spark. Se encarga de gestionar la conexión con el resource manager y los ejecutores.\n",
        "\n",
        "A partir de la versión 2.0.0, __sparkSession__ funciona como punto de entrada único para interactuar con spark, contiene toda la funcionalidad básica del _sparkContext_ y añade la API para interacturar con Dataframes. \n",
        "\n",
        "En el caso de Intelligence ambos objetos son creados automáticamente al iniciar un _kernel_ de _pyspark_."
      ]
    },
    {
      "cell_type": "code",
      "metadata": {
        "id": "JEoznhqidcHw",
        "colab_type": "code",
        "outputId": "125cd6b7-6566-4b72-8011-c4c66d3f6763",
        "colab": {}
      },
      "source": [
        "spark"
      ],
      "execution_count": 0,
      "outputs": [
        {
          "output_type": "execute_result",
          "data": {
            "text/plain": [
              "<pyspark.sql.session.SparkSession at 0x7f16b9818358>"
            ]
          },
          "metadata": {
            "tags": []
          },
          "execution_count": 2
        }
      ]
    },
    {
      "cell_type": "code",
      "metadata": {
        "id": "5kjhOPILdcHz",
        "colab_type": "code",
        "outputId": "ff2cf0bf-bef4-4b94-d229-12bb53516351",
        "colab": {}
      },
      "source": [
        "spark.version"
      ],
      "execution_count": 0,
      "outputs": [
        {
          "output_type": "execute_result",
          "data": {
            "text/plain": [
              "'2.1.0.1'"
            ]
          },
          "metadata": {
            "tags": []
          },
          "execution_count": 3
        }
      ]
    },
    {
      "cell_type": "code",
      "metadata": {
        "id": "hMRZrrD0dcH1",
        "colab_type": "code",
        "outputId": "e43c35ee-b1e4-4e09-9edf-ef4d09843f1a",
        "colab": {}
      },
      "source": [
        "sc"
      ],
      "execution_count": 0,
      "outputs": [
        {
          "output_type": "execute_result",
          "data": {
            "text/plain": [
              "<pyspark.context.SparkContext at 0x7f16ca02e240>"
            ]
          },
          "metadata": {
            "tags": []
          },
          "execution_count": 4
        }
      ]
    },
    {
      "cell_type": "markdown",
      "metadata": {
        "id": "HRUf4-2UdcH3",
        "colab_type": "text"
      },
      "source": [
        "\n",
        "\n",
        "_sparkSession_ contiene al _sparkContext_"
      ]
    },
    {
      "cell_type": "code",
      "metadata": {
        "id": "KlgBksLzdcH4",
        "colab_type": "code",
        "outputId": "f14685ba-9b8b-4973-c0a9-76baa502b6a6",
        "colab": {}
      },
      "source": [
        "spark.sparkContext"
      ],
      "execution_count": 0,
      "outputs": [
        {
          "output_type": "execute_result",
          "data": {
            "text/plain": [
              "<pyspark.context.SparkContext at 0x7f16ca02e240>"
            ]
          },
          "metadata": {
            "tags": []
          },
          "execution_count": 5
        }
      ]
    },
    {
      "cell_type": "markdown",
      "metadata": {
        "id": "0tFAEklJdcH5",
        "colab_type": "text"
      },
      "source": [
        "\n",
        "\n",
        "_sparkContext_ contiene la configuración de spark"
      ]
    },
    {
      "cell_type": "code",
      "metadata": {
        "id": "BjgCNMqRdcH6",
        "colab_type": "code",
        "outputId": "11cdf864-5383-45fe-d8b2-63c720190c54",
        "colab": {}
      },
      "source": [
        "sc.getConf().getAll()"
      ],
      "execution_count": 0,
      "outputs": [
        {
          "output_type": "execute_result",
          "data": {
            "text/plain": [
              "[('spark.intelligence.kernel', 'e66f6ea7-56fae21de60f2a63aca4987a'),\n",
              " ('spark.mesos.executor.docker.volumes',\n",
              "  '/etc/resolv.conf:/etc/resolv.conf:ro'),\n",
              " ('spark.mesos.secret', 'DrE6o5r67qnf38H9K5KgGhoeRHqwU6sVNBVStHqw'),\n",
              " ('spark.files',\n",
              "  'file:/var/sds/intelligence/graphs/graphfiles.zip,file:/var/sds/intelligence/bigdl/bigdl-0.5.0-python-api.zip'),\n",
              " ('spark.shuffle.reduceLocality.enabled', 'false'),\n",
              " ('spark.submit.pyFiles',\n",
              "  '/var/sds/intelligence/graphs/graphfiles.zip,/var/sds/intelligence/bigdl/bigdl-0.5.0-python-api.zip'),\n",
              " ('spark.driver.memory', '1g'),\n",
              " ('spark.driver.host', '192.168.192.90'),\n",
              " ('spark.cores.max', '1'),\n",
              " ('spark.master', 'mesos://leader.mesos:5050'),\n",
              " ('spark.sql.sources.parallelPartitionDiscovery.threshold', '10000000'),\n",
              " ('spark.serializer.objectStreamReset', '100'),\n",
              " ('spark.scheduler.minRegisteredResourcesRatio', '1.0'),\n",
              " ('spark.submit.deployMode', 'client'),\n",
              " ('spark.mesos.role', 'infesp'),\n",
              " ('spark.mesos.executor.docker.image',\n",
              "  'nexus.daas.work.es.ether.igrupobbva/repository/es-docker/stratio/intelligence-spark-executor:0.5.0-upgrade2-RC1'),\n",
              " ('spark.jars',\n",
              "  'file:/var/sds/intelligence/xd/crossdata-core_2.11-2.8.0-jar-with-dependencies.jar,file:/var/sds/intelligence/scala_mleap/spark-mleap-0.7.0.jar,file:/var/sds/intelligence/postgres/postgresql-42.1.1.jar,file:/var/sds/intelligence/graphs/scala-logging-api_2.11-2.1.2.jar,file:/var/sds/intelligence/graphs/scala-logging-slf4j_2.11-2.1.2.jar,file:/var/sds/intelligence/graphs/graphframes-assembly-0.6.0-SNAPSHOT-spark2.2.jar,file:/var/sds/intelligence/bigdl/bigdl-SPARK_2.1-0.5.0-jar-with-dependencies.jar'),\n",
              " ('spark.driver.extraClassPath',\n",
              "  '/var/sds/intelligence/postgres/postgresql-42.1.1.jar'),\n",
              " ('spark.executor.memory', '2g'),\n",
              " ('spark.shuffle.blockTransferService', 'nio'),\n",
              " ('spark.executor.id', 'driver'),\n",
              " ('spark.app.name', 'in-fesp-infesp-XE78426-spark2python3'),\n",
              " ('spark.app.id', '5d2ccefa-a810-4cd1-b9d4-54e1fda20e2c-0083'),\n",
              " ('spark.driver.port', '35042'),\n",
              " ('spark.rdd.compress', 'True'),\n",
              " ('spark.speculation', 'false'),\n",
              " ('spark.mesos.principal', 'open'),\n",
              " ('spark.executorEnv.SPARK_SECURITY_HDFS_ENABLE', 'true'),\n",
              " ('spark.sql.caseSensitive', 'true'),\n",
              " ('spark.task.maxFailures', '20'),\n",
              " ('spark.executor.cores', '1'),\n",
              " ('spark.executorEnv.SPARK_SECURITY_HDFS_CONF_URI',\n",
              "  'http://infesp.marathon.l4lb.thisdcos.directory:8080/XE78426/')]"
            ]
          },
          "metadata": {
            "tags": []
          },
          "execution_count": 6
        }
      ]
    },
    {
      "cell_type": "markdown",
      "metadata": {
        "id": "_K6z3BqldcH8",
        "colab_type": "text"
      },
      "source": [
        "\n",
        "# DataFrames\n",
        "Es una colección inmutable y distribuida de datos organizados en columnas de forma tabular que permite una abstracción de los datos a alto nivel.\n",
        "\n",
        "\n",
        "__Características__\n",
        "\n",
        "- Conjunto de filas (Rows) con un esquema de datos (Schema)\n",
        "- Colección distribuida de datos organizados en filas y columnas nombradas.\n",
        "- Conceptualmente equivalente a una tabla en una BD relacional, o a un data frame de R o Python (pandas), pero con optimizaciones avanzadas para soportar aplicaciones Big Data y Data Science.\n",
        "- Pueden construirse a partir de distintas fuentes: ficheros de datos estructurados, tablas de Hive, BD externas, o RDDs\n",
        "- DataFrame API disponible en Scala, Java, Python, y R"
      ]
    },
    {
      "cell_type": "markdown",
      "metadata": {
        "id": "8uEBS2mcdcH8",
        "colab_type": "text"
      },
      "source": [
        "\n",
        "\n",
        "En SparkSQL cada __transformación__ sobre un DataFrame se añade a lo que se conoce como *query plan*. Cuando se aplica una __acción__ sobre el DataFrame el *Catalyst Optimizer* analiza el *query plan* e intenta optimizarlo, luego selecciona el plan físico (transformación a operaciones RDD de bajo nivel) más eficiente para la ejecución del plan, y lo ejecuta. \n",
        "\n",
        "Se puede consultar el *query plan* usando la función `explain()` sobre el DataFrame."
      ]
    },
    {
      "cell_type": "markdown",
      "metadata": {
        "id": "LOzo51POdcH9",
        "colab_type": "text"
      },
      "source": [
        "\n",
        "\n",
        "## Creación de DataFrames\n",
        "Normalmente un DataFrame se crea leyendo datos desde una fuente externa (S3, HDFS, etc). Por ejemplo para leer el fichero 'Building_Permits.csv' almacenado en el Sandbox Data:"
      ]
    },
    {
      "cell_type": "code",
      "metadata": {
        "id": "rFrnmT2edcH9",
        "colab_type": "code",
        "colab": {}
      },
      "source": [
        "# Cargar un file .csv\n",
        "file_name = \"Building_Permits.csv\"\n",
        "\n",
        "buildings_df = spark.read.csv(DATA_PATH + file_name, sep=',', header=True, inferSchema=True)"
      ],
      "execution_count": 0,
      "outputs": []
    },
    {
      "cell_type": "code",
      "metadata": {
        "id": "GRtbLv7jdcH_",
        "colab_type": "code",
        "outputId": "593709c7-805d-469b-e3d9-3ce548bb8ad6",
        "colab": {}
      },
      "source": [
        "buildings_df.show(3)"
      ],
      "execution_count": 0,
      "outputs": [
        {
          "output_type": "stream",
          "text": [
            "+-------------+-----------+----------------------+--------------------+-----+---+-------------+--------------------+-----------+-------------+----+-----------+--------------------+--------------+-------------------+----------+-----------+--------------+--------------------------------+-----------------------+--------------------------+--------------------------+-----------------------------+----------------+----------------------+--------------+------------+-------------------+--------------+------------+--------------+--------+---------------+--------------------------+--------------------------------------+--------------------------+--------------------------------------+-----------+-------------------+-----------------------------------+-------+--------------------+-------------+\n",
            "|Permit Number|Permit Type|Permit Type Definition|Permit Creation Date|Block|Lot|Street Number|Street Number Suffix|Street Name|Street Suffix|Unit|Unit Suffix|         Description|Current Status|Current Status Date|Filed Date|Issued Date|Completed Date|First Construction Document Date|Structural Notification|Number of Existing Stories|Number of Proposed Stories|Voluntary Soft-Story Retrofit|Fire Only Permit|Permit Expiration Date|Estimated Cost|Revised Cost|       Existing Use|Existing Units|Proposed Use|Proposed Units|Plansets|TIDF Compliance|Existing Construction Type|Existing Construction Type Description|Proposed Construction Type|Proposed Construction Type Description|Site Permit|Supervisor District|Neighborhoods - Analysis Boundaries|Zipcode|            Location|    Record ID|\n",
            "+-------------+-----------+----------------------+--------------------+-----+---+-------------+--------------------+-----------+-------------+----+-----------+--------------------+--------------+-------------------+----------+-----------+--------------+--------------------------------+-----------------------+--------------------------+--------------------------+-----------------------------+----------------+----------------------+--------------+------------+-------------------+--------------+------------+--------------+--------+---------------+--------------------------+--------------------------------------+--------------------------+--------------------------------------+-----------+-------------------+-----------------------------------+-------+--------------------+-------------+\n",
            "| 201505065519|          4|          sign - erect|          05/06/2015| 0326|023|          140|                null|      Ellis|           St|null|       null|ground fl facade:...|       expired|         12/21/2017|05/06/2015| 11/09/2015|          null|                      11/09/2015|                   null|                         6|                      null|                         null|            null|            11/03/2016|          4000|        4000|tourist hotel/motel|           143|        null|          null|       2|           null|                         3|                         constr type 3|                      null|                                  null|       null|                  3|                         Tenderloin|  94102|(37.7857192566807...|1380611233945|\n",
            "| 201604195146|          4|          sign - erect|          04/19/2016| 0306|007|          440|                null|      Geary|           St|   0|       null|remove (e) awning...|        issued|         08/03/2017|04/19/2016| 08/03/2017|          null|                      08/03/2017|                   null|                         7|                      null|                         null|            null|            12/03/2017|             1|         500|tourist hotel/motel|          null|        null|          null|       2|           null|                         3|                         constr type 3|                      null|                                  null|       null|                  3|                         Tenderloin|  94102|(37.7873398060073...|1420164406718|\n",
            "| 201605278609|          3|  additions alterat...|          05/27/2016| 0595|203|         1647|                null|    Pacific|           Av|null|       null|installation of s...|     withdrawn|         09/26/2017|05/27/2016|       null|          null|                            null|                   null|                         6|                         6|                         null|            null|                  null|         20000|        null|       retail sales|            39|retail sales|            39|       2|           null|                         1|                         constr type 1|                         1|                         constr type 1|       null|                  3|                       Russian Hill|  94109|(37.7946573324287...|1424856504716|\n",
            "+-------------+-----------+----------------------+--------------------+-----+---+-------------+--------------------+-----------+-------------+----+-----------+--------------------+--------------+-------------------+----------+-----------+--------------+--------------------------------+-----------------------+--------------------------+--------------------------+-----------------------------+----------------+----------------------+--------------+------------+-------------------+--------------+------------+--------------+--------+---------------+--------------------------+--------------------------------------+--------------------------+--------------------------------------+-----------+-------------------+-----------------------------------+-------+--------------------+-------------+\n",
            "only showing top 3 rows\n",
            "\n"
          ],
          "name": "stdout"
        }
      ]
    },
    {
      "cell_type": "markdown",
      "metadata": {
        "id": "S17vCbIBdcIB",
        "colab_type": "text"
      },
      "source": [
        " \n",
        "\n",
        "En el caso de leer ficheros parquet no es necesario indicar una cabecera ni separador. Esta iformación ya está contenida en los propios ficheros parquet. Por ejemplo:"
      ]
    },
    {
      "cell_type": "code",
      "metadata": {
        "id": "Ht07YFn7dcIC",
        "colab_type": "code",
        "colab": {}
      },
      "source": [
        "file_path = \"parquet/online_retail\"\n",
        "\n",
        "online_df = spark.read.parquet(DATA_PATH + file_path)"
      ],
      "execution_count": 0,
      "outputs": []
    },
    {
      "cell_type": "code",
      "metadata": {
        "id": "aOyZicNLdcID",
        "colab_type": "code",
        "outputId": "a3e7e381-5277-47cd-b46d-328e0fc9e21c",
        "colab": {}
      },
      "source": [
        "online_df.show(5)"
      ],
      "execution_count": 0,
      "outputs": [
        {
          "output_type": "stream",
          "text": [
            "+---------+---------+--------------------+--------+---------------+---------+----------+--------------+\n",
            "|InvoiceNo|StockCode|         Description|Quantity|    InvoiceDate|UnitPrice|CustomerID|       Country|\n",
            "+---------+---------+--------------------+--------+---------------+---------+----------+--------------+\n",
            "|   536365|   85123A|WHITE HANGING HEA...|       6|01/12/2010 8:26|     2,55|     17850|United Kingdom|\n",
            "|   536365|    71053| WHITE METAL LANTERN|       6|01/12/2010 8:26|     3,39|     17850|United Kingdom|\n",
            "|   536365|   84406B|CREAM CUPID HEART...|       8|01/12/2010 8:26|     2,75|     17850|United Kingdom|\n",
            "|   536365|   84029G|KNITTED UNION FLA...|       6|01/12/2010 8:26|     3,39|     17850|United Kingdom|\n",
            "|   536365|   84029E|RED WOOLLY HOTTIE...|       6|01/12/2010 8:26|     3,39|     17850|United Kingdom|\n",
            "+---------+---------+--------------------+--------+---------------+---------+----------+--------------+\n",
            "only showing top 5 rows\n",
            "\n"
          ],
          "name": "stdout"
        }
      ]
    },
    {
      "cell_type": "markdown",
      "metadata": {
        "id": "xqYgw3dWdcIF",
        "colab_type": "text"
      },
      "source": [
        "\n",
        "\n",
        "También se puede crear un DataFrame de Spark a partir de un DataFrame de Pandas."
      ]
    },
    {
      "cell_type": "code",
      "metadata": {
        "id": "d4xE6wkzdcIG",
        "colab_type": "code",
        "outputId": "344d9f97-2e7b-4a97-c9ca-939b69bdd945",
        "colab": {}
      },
      "source": [
        "import pandas as pd\n",
        "\n",
        "df = pd.DataFrame({'city': ['Madrid', 'Birmingham', 'Barcelona', 'Mexico City'], \n",
        "                   'population': [3.2, 0.2, 1.6, 8.8]})\n",
        "df"
      ],
      "execution_count": 0,
      "outputs": [
        {
          "output_type": "execute_result",
          "data": {
            "text/html": [
              "<div>\n",
              "<style scoped>\n",
              "    .dataframe tbody tr th:only-of-type {\n",
              "        vertical-align: middle;\n",
              "    }\n",
              "\n",
              "    .dataframe tbody tr th {\n",
              "        vertical-align: top;\n",
              "    }\n",
              "\n",
              "    .dataframe thead th {\n",
              "        text-align: right;\n",
              "    }\n",
              "</style>\n",
              "<table border=\"1\" class=\"dataframe\">\n",
              "  <thead>\n",
              "    <tr style=\"text-align: right;\">\n",
              "      <th></th>\n",
              "      <th>city</th>\n",
              "      <th>population</th>\n",
              "    </tr>\n",
              "  </thead>\n",
              "  <tbody>\n",
              "    <tr>\n",
              "      <th>0</th>\n",
              "      <td>Madrid</td>\n",
              "      <td>3.2</td>\n",
              "    </tr>\n",
              "    <tr>\n",
              "      <th>1</th>\n",
              "      <td>Birmingham</td>\n",
              "      <td>0.2</td>\n",
              "    </tr>\n",
              "    <tr>\n",
              "      <th>2</th>\n",
              "      <td>Barcelona</td>\n",
              "      <td>1.6</td>\n",
              "    </tr>\n",
              "    <tr>\n",
              "      <th>3</th>\n",
              "      <td>Mexico City</td>\n",
              "      <td>8.8</td>\n",
              "    </tr>\n",
              "  </tbody>\n",
              "</table>\n",
              "</div>"
            ],
            "text/plain": [
              "          city  population\n",
              "0       Madrid         3.2\n",
              "1   Birmingham         0.2\n",
              "2    Barcelona         1.6\n",
              "3  Mexico City         8.8"
            ]
          },
          "metadata": {
            "tags": []
          },
          "execution_count": 11
        }
      ]
    },
    {
      "cell_type": "code",
      "metadata": {
        "id": "BohM2QW0dcII",
        "colab_type": "code",
        "outputId": "56a7af5a-ea64-4d88-bd68-8281f86a0713",
        "colab": {}
      },
      "source": [
        "df_s = spark.createDataFrame(df)\n",
        "df_s"
      ],
      "execution_count": 0,
      "outputs": [
        {
          "output_type": "execute_result",
          "data": {
            "text/plain": [
              "DataFrame[city: string, population: double]"
            ]
          },
          "metadata": {
            "tags": []
          },
          "execution_count": 12
        }
      ]
    },
    {
      "cell_type": "code",
      "metadata": {
        "id": "1pyAHkb0dcIJ",
        "colab_type": "code",
        "outputId": "5f5b9792-bf5d-4a5f-f0df-9cac698bb160",
        "colab": {}
      },
      "source": [
        "#df_s.show.toPandas()\n",
        "\n",
        "df_s.show()"
      ],
      "execution_count": 0,
      "outputs": [
        {
          "output_type": "stream",
          "text": [
            "+-----------+----------+\n",
            "|       city|population|\n",
            "+-----------+----------+\n",
            "|     Madrid|       3.2|\n",
            "| Birmingham|       0.2|\n",
            "|  Barcelona|       1.6|\n",
            "|Mexico City|       8.8|\n",
            "+-----------+----------+\n",
            "\n"
          ],
          "name": "stdout"
        }
      ]
    },
    {
      "cell_type": "markdown",
      "metadata": {
        "id": "l-68tywZdcIL",
        "colab_type": "text"
      },
      "source": [
        "\n",
        "## Información básica de DataFrames"
      ]
    },
    {
      "cell_type": "markdown",
      "metadata": {
        "id": "6pJpK7JcdcIM",
        "colab_type": "text"
      },
      "source": [
        "\n",
        "\n",
        "### Previsualización\n",
        "\n",
        "`show` es un método que muestra por pantalla _n_ filas del DataFrame."
      ]
    },
    {
      "cell_type": "code",
      "metadata": {
        "id": "Ce-XESagdcIM",
        "colab_type": "code",
        "outputId": "c77a948e-ab29-4bf8-bb7c-9cf24bbded94",
        "colab": {}
      },
      "source": [
        "online_df.show(6)"
      ],
      "execution_count": 0,
      "outputs": [
        {
          "output_type": "stream",
          "text": [
            "+---------+---------+--------------------+--------+---------------+---------+----------+--------------+\n",
            "|InvoiceNo|StockCode|         Description|Quantity|    InvoiceDate|UnitPrice|CustomerID|       Country|\n",
            "+---------+---------+--------------------+--------+---------------+---------+----------+--------------+\n",
            "|   536365|   85123A|WHITE HANGING HEA...|       6|01/12/2010 8:26|     2,55|     17850|United Kingdom|\n",
            "|   536365|    71053| WHITE METAL LANTERN|       6|01/12/2010 8:26|     3,39|     17850|United Kingdom|\n",
            "|   536365|   84406B|CREAM CUPID HEART...|       8|01/12/2010 8:26|     2,75|     17850|United Kingdom|\n",
            "|   536365|   84029G|KNITTED UNION FLA...|       6|01/12/2010 8:26|     3,39|     17850|United Kingdom|\n",
            "|   536365|   84029E|RED WOOLLY HOTTIE...|       6|01/12/2010 8:26|     3,39|     17850|United Kingdom|\n",
            "|   536365|    22752|SET 7 BABUSHKA NE...|       2|01/12/2010 8:26|     7,65|     17850|United Kingdom|\n",
            "+---------+---------+--------------------+--------+---------------+---------+----------+--------------+\n",
            "only showing top 6 rows\n",
            "\n"
          ],
          "name": "stdout"
        }
      ]
    },
    {
      "cell_type": "markdown",
      "metadata": {
        "id": "WJb3RTKQdcIO",
        "colab_type": "text"
      },
      "source": [
        "\n",
        "\n",
        "### Dimensions\n",
        "\n",
        "En Spark, no existe un método *shape*, por lo que hay que contar por separados las filas y las columnas."
      ]
    },
    {
      "cell_type": "code",
      "metadata": {
        "id": "m8rFErxvdcIO",
        "colab_type": "code",
        "outputId": "aadd4738-c434-4ca6-a23d-f49066468f29",
        "colab": {}
      },
      "source": [
        "buildings_df.count()"
      ],
      "execution_count": 0,
      "outputs": [
        {
          "output_type": "execute_result",
          "data": {
            "text/plain": [
              "198900"
            ]
          },
          "metadata": {
            "tags": []
          },
          "execution_count": 15
        }
      ]
    },
    {
      "cell_type": "markdown",
      "metadata": {
        "id": "Z8u3J9ZXdcIQ",
        "colab_type": "text"
      },
      "source": [
        "\n",
        "\n",
        "`columns` es un atributo que contiene los nombres de las columnas del DataFrame."
      ]
    },
    {
      "cell_type": "code",
      "metadata": {
        "scrolled": true,
        "id": "c1db7zmvdcIR",
        "colab_type": "code",
        "outputId": "d153c151-28f7-47a7-fac4-6a89daa531a2",
        "colab": {}
      },
      "source": [
        "buildings_df.columns"
      ],
      "execution_count": 0,
      "outputs": [
        {
          "output_type": "execute_result",
          "data": {
            "text/plain": [
              "['Permit Number',\n",
              " 'Permit Type',\n",
              " 'Permit Type Definition',\n",
              " 'Permit Creation Date',\n",
              " 'Block',\n",
              " 'Lot',\n",
              " 'Street Number',\n",
              " 'Street Number Suffix',\n",
              " 'Street Name',\n",
              " 'Street Suffix',\n",
              " 'Unit',\n",
              " 'Unit Suffix',\n",
              " 'Description',\n",
              " 'Current Status',\n",
              " 'Current Status Date',\n",
              " 'Filed Date',\n",
              " 'Issued Date',\n",
              " 'Completed Date',\n",
              " 'First Construction Document Date',\n",
              " 'Structural Notification',\n",
              " 'Number of Existing Stories',\n",
              " 'Number of Proposed Stories',\n",
              " 'Voluntary Soft-Story Retrofit',\n",
              " 'Fire Only Permit',\n",
              " 'Permit Expiration Date',\n",
              " 'Estimated Cost',\n",
              " 'Revised Cost',\n",
              " 'Existing Use',\n",
              " 'Existing Units',\n",
              " 'Proposed Use',\n",
              " 'Proposed Units',\n",
              " 'Plansets',\n",
              " 'TIDF Compliance',\n",
              " 'Existing Construction Type',\n",
              " 'Existing Construction Type Description',\n",
              " 'Proposed Construction Type',\n",
              " 'Proposed Construction Type Description',\n",
              " 'Site Permit',\n",
              " 'Supervisor District',\n",
              " 'Neighborhoods - Analysis Boundaries',\n",
              " 'Zipcode',\n",
              " 'Location',\n",
              " 'Record ID']"
            ]
          },
          "metadata": {
            "tags": []
          },
          "execution_count": 16
        }
      ]
    },
    {
      "cell_type": "code",
      "metadata": {
        "id": "PCQLQeUKdcIS",
        "colab_type": "code",
        "outputId": "ab964ad2-954f-48fa-dd71-bafdb0218e2b",
        "colab": {}
      },
      "source": [
        "len(buildings_df.columns)"
      ],
      "execution_count": 0,
      "outputs": [
        {
          "output_type": "execute_result",
          "data": {
            "text/plain": [
              "43"
            ]
          },
          "metadata": {
            "tags": []
          },
          "execution_count": 17
        }
      ]
    },
    {
      "cell_type": "markdown",
      "metadata": {
        "id": "mcH4boUcdcIW",
        "colab_type": "text"
      },
      "source": [
        "\n",
        "\n",
        "### Schema\n",
        "\n",
        "El schema de un dataframe nos muestra como se interpretaran los datos. Esto no significa que los datos estén así. _schema_ es un atributo del objeto, no un método. _printSchema()_ es un método que muestra una versión más entendidible del _schema_."
      ]
    },
    {
      "cell_type": "code",
      "metadata": {
        "id": "cFP6kjeLdcIW",
        "colab_type": "code",
        "outputId": "fb3de14e-6da6-48d9-cdee-fdb5ae785f9f",
        "colab": {}
      },
      "source": [
        "# Es un método que te arroja cual es la estructura de la tabla.\n",
        "# Similar a un info()\n",
        "\n",
        "buildings_df.schema"
      ],
      "execution_count": 0,
      "outputs": [
        {
          "output_type": "execute_result",
          "data": {
            "text/plain": [
              "StructType(List(StructField(Permit Number,StringType,true),StructField(Permit Type,IntegerType,true),StructField(Permit Type Definition,StringType,true),StructField(Permit Creation Date,StringType,true),StructField(Block,StringType,true),StructField(Lot,StringType,true),StructField(Street Number,IntegerType,true),StructField(Street Number Suffix,StringType,true),StructField(Street Name,StringType,true),StructField(Street Suffix,StringType,true),StructField(Unit,IntegerType,true),StructField(Unit Suffix,StringType,true),StructField(Description,StringType,true),StructField(Current Status,StringType,true),StructField(Current Status Date,StringType,true),StructField(Filed Date,StringType,true),StructField(Issued Date,StringType,true),StructField(Completed Date,StringType,true),StructField(First Construction Document Date,StringType,true),StructField(Structural Notification,StringType,true),StructField(Number of Existing Stories,StringType,true),StructField(Number of Proposed Stories,StringType,true),StructField(Voluntary Soft-Story Retrofit,StringType,true),StructField(Fire Only Permit,StringType,true),StructField(Permit Expiration Date,StringType,true),StructField(Estimated Cost,StringType,true),StructField(Revised Cost,StringType,true),StructField(Existing Use,StringType,true),StructField(Existing Units,StringType,true),StructField(Proposed Use,StringType,true),StructField(Proposed Units,StringType,true),StructField(Plansets,StringType,true),StructField(TIDF Compliance,StringType,true),StructField(Existing Construction Type,StringType,true),StructField(Existing Construction Type Description,StringType,true),StructField(Proposed Construction Type,StringType,true),StructField(Proposed Construction Type Description,StringType,true),StructField(Site Permit,StringType,true),StructField(Supervisor District,StringType,true),StructField(Neighborhoods - Analysis Boundaries,StringType,true),StructField(Zipcode,StringType,true),StructField(Location,StringType,true),StructField(Record ID,StringType,true)))"
            ]
          },
          "metadata": {
            "tags": []
          },
          "execution_count": 18
        }
      ]
    },
    {
      "cell_type": "code",
      "metadata": {
        "id": "CdRtW5xTdcIY",
        "colab_type": "code",
        "outputId": "ac609dad-90e5-476c-f4c9-98f79dc94cdc",
        "colab": {}
      },
      "source": [
        "# Empleado para visualizar el esquema de la tabla\n",
        "buildings_df.printSchema()"
      ],
      "execution_count": 0,
      "outputs": [
        {
          "output_type": "stream",
          "text": [
            "root\n",
            " |-- Permit Number: string (nullable = true)\n",
            " |-- Permit Type: integer (nullable = true)\n",
            " |-- Permit Type Definition: string (nullable = true)\n",
            " |-- Permit Creation Date: string (nullable = true)\n",
            " |-- Block: string (nullable = true)\n",
            " |-- Lot: string (nullable = true)\n",
            " |-- Street Number: integer (nullable = true)\n",
            " |-- Street Number Suffix: string (nullable = true)\n",
            " |-- Street Name: string (nullable = true)\n",
            " |-- Street Suffix: string (nullable = true)\n",
            " |-- Unit: integer (nullable = true)\n",
            " |-- Unit Suffix: string (nullable = true)\n",
            " |-- Description: string (nullable = true)\n",
            " |-- Current Status: string (nullable = true)\n",
            " |-- Current Status Date: string (nullable = true)\n",
            " |-- Filed Date: string (nullable = true)\n",
            " |-- Issued Date: string (nullable = true)\n",
            " |-- Completed Date: string (nullable = true)\n",
            " |-- First Construction Document Date: string (nullable = true)\n",
            " |-- Structural Notification: string (nullable = true)\n",
            " |-- Number of Existing Stories: string (nullable = true)\n",
            " |-- Number of Proposed Stories: string (nullable = true)\n",
            " |-- Voluntary Soft-Story Retrofit: string (nullable = true)\n",
            " |-- Fire Only Permit: string (nullable = true)\n",
            " |-- Permit Expiration Date: string (nullable = true)\n",
            " |-- Estimated Cost: string (nullable = true)\n",
            " |-- Revised Cost: string (nullable = true)\n",
            " |-- Existing Use: string (nullable = true)\n",
            " |-- Existing Units: string (nullable = true)\n",
            " |-- Proposed Use: string (nullable = true)\n",
            " |-- Proposed Units: string (nullable = true)\n",
            " |-- Plansets: string (nullable = true)\n",
            " |-- TIDF Compliance: string (nullable = true)\n",
            " |-- Existing Construction Type: string (nullable = true)\n",
            " |-- Existing Construction Type Description: string (nullable = true)\n",
            " |-- Proposed Construction Type: string (nullable = true)\n",
            " |-- Proposed Construction Type Description: string (nullable = true)\n",
            " |-- Site Permit: string (nullable = true)\n",
            " |-- Supervisor District: string (nullable = true)\n",
            " |-- Neighborhoods - Analysis Boundaries: string (nullable = true)\n",
            " |-- Zipcode: string (nullable = true)\n",
            " |-- Location: string (nullable = true)\n",
            " |-- Record ID: string (nullable = true)\n",
            "\n"
          ],
          "name": "stdout"
        }
      ]
    },
    {
      "cell_type": "markdown",
      "metadata": {
        "id": "tEZf4idEdcIZ",
        "colab_type": "text"
      },
      "source": [
        "\n",
        "\n",
        "### dtypes\n",
        "\n",
        "El atributo `dtypes` contiene los nombres de las columnas del dataframe junto con su tipo. Esto permite seleccionar nombres de columnas basados en el tipo, normalmente las variables categóricas (string y boolean) tienen tratamientos distintos a las numéricas (enteras y decimales)."
      ]
    },
    {
      "cell_type": "code",
      "metadata": {
        "id": "bHupOtSzdcIa",
        "colab_type": "code",
        "outputId": "705baa56-5873-4b94-d8d6-da4cbeb1f19f",
        "colab": {}
      },
      "source": [
        "online_df.dtypes"
      ],
      "execution_count": 0,
      "outputs": [
        {
          "output_type": "execute_result",
          "data": {
            "text/plain": [
              "[('InvoiceNo', 'string'),\n",
              " ('StockCode', 'string'),\n",
              " ('Description', 'string'),\n",
              " ('Quantity', 'int'),\n",
              " ('InvoiceDate', 'string'),\n",
              " ('UnitPrice', 'string'),\n",
              " ('CustomerID', 'int'),\n",
              " ('Country', 'string')]"
            ]
          },
          "metadata": {
            "tags": []
          },
          "execution_count": 20
        }
      ]
    },
    {
      "cell_type": "code",
      "metadata": {
        "id": "_W6lm7cBdcIb",
        "colab_type": "code",
        "outputId": "c4401286-e090-4a02-f5bb-591cfedbe599",
        "colab": {}
      },
      "source": [
        "categorial_columns = [c for c,t in online_df.dtypes if t in ['string', 'bool']]\n",
        "categorial_columns"
      ],
      "execution_count": 0,
      "outputs": [
        {
          "output_type": "execute_result",
          "data": {
            "text/plain": [
              "['InvoiceNo',\n",
              " 'StockCode',\n",
              " 'Description',\n",
              " 'InvoiceDate',\n",
              " 'UnitPrice',\n",
              " 'Country']"
            ]
          },
          "metadata": {
            "tags": []
          },
          "execution_count": 21
        }
      ]
    },
    {
      "cell_type": "code",
      "metadata": {
        "id": "qXo9AtlOdcId",
        "colab_type": "code",
        "outputId": "4753dae8-2f0f-4bc6-a59e-f96b72b910cb",
        "colab": {}
      },
      "source": [
        "numerical_columns = [c for c,t in online_df.dtypes if t in ['int', 'double']]\n",
        "numerical_columns"
      ],
      "execution_count": 0,
      "outputs": [
        {
          "output_type": "execute_result",
          "data": {
            "text/plain": [
              "['Quantity', 'CustomerID']"
            ]
          },
          "metadata": {
            "tags": []
          },
          "execution_count": 22
        }
      ]
    },
    {
      "cell_type": "markdown",
      "metadata": {
        "id": "c5f8hDspdcIe",
        "colab_type": "text"
      },
      "source": [
        "\n",
        "## Acciones\n",
        "\n",
        "Las acciones principales de Spark que se van a tratar son las siguientes:\n",
        "    \n",
        "    - show()\n",
        "    - count()\n",
        "    - first()\n",
        "    - take()\n",
        "    - collect()\n",
        "    - toPandas()\n",
        "    - write()"
      ]
    },
    {
      "cell_type": "markdown",
      "metadata": {
        "id": "9Mr929zcdcIe",
        "colab_type": "text"
      },
      "source": [
        "\n",
        "### show\n",
        "Muestra por pantalla _n_ filas del DataFrame (20 por defecto). Es una llamada a un `print`, no permite almacenar el resultado en una variable. El parámetro `truncate` limita el número de caracteres de cada campo."
      ]
    },
    {
      "cell_type": "code",
      "metadata": {
        "id": "YRVl-BMtdcIf",
        "colab_type": "code",
        "outputId": "e5cb6a4a-d430-45a2-b711-575fe5d516fe",
        "colab": {}
      },
      "source": [
        "online_df.show(5)"
      ],
      "execution_count": 0,
      "outputs": [
        {
          "output_type": "stream",
          "text": [
            "+---------+---------+--------------------+--------+---------------+---------+----------+--------------+\n",
            "|InvoiceNo|StockCode|         Description|Quantity|    InvoiceDate|UnitPrice|CustomerID|       Country|\n",
            "+---------+---------+--------------------+--------+---------------+---------+----------+--------------+\n",
            "|   536365|   85123A|WHITE HANGING HEA...|       6|01/12/2010 8:26|     2,55|     17850|United Kingdom|\n",
            "|   536365|    71053| WHITE METAL LANTERN|       6|01/12/2010 8:26|     3,39|     17850|United Kingdom|\n",
            "|   536365|   84406B|CREAM CUPID HEART...|       8|01/12/2010 8:26|     2,75|     17850|United Kingdom|\n",
            "|   536365|   84029G|KNITTED UNION FLA...|       6|01/12/2010 8:26|     3,39|     17850|United Kingdom|\n",
            "|   536365|   84029E|RED WOOLLY HOTTIE...|       6|01/12/2010 8:26|     3,39|     17850|United Kingdom|\n",
            "+---------+---------+--------------------+--------+---------------+---------+----------+--------------+\n",
            "only showing top 5 rows\n",
            "\n"
          ],
          "name": "stdout"
        }
      ]
    },
    {
      "cell_type": "code",
      "metadata": {
        "id": "33kogHIUdcIg",
        "colab_type": "code",
        "outputId": "e2778d07-6c64-416f-e358-a03d75422958",
        "colab": {}
      },
      "source": [
        "online_df.show(5, truncate=False)"
      ],
      "execution_count": 0,
      "outputs": [
        {
          "output_type": "stream",
          "text": [
            "+---------+---------+-----------------------------------+--------+---------------+---------+----------+--------------+\n",
            "|InvoiceNo|StockCode|Description                        |Quantity|InvoiceDate    |UnitPrice|CustomerID|Country       |\n",
            "+---------+---------+-----------------------------------+--------+---------------+---------+----------+--------------+\n",
            "|536365   |85123A   |WHITE HANGING HEART T-LIGHT HOLDER |6       |01/12/2010 8:26|2,55     |17850     |United Kingdom|\n",
            "|536365   |71053    |WHITE METAL LANTERN                |6       |01/12/2010 8:26|3,39     |17850     |United Kingdom|\n",
            "|536365   |84406B   |CREAM CUPID HEARTS COAT HANGER     |8       |01/12/2010 8:26|2,75     |17850     |United Kingdom|\n",
            "|536365   |84029G   |KNITTED UNION FLAG HOT WATER BOTTLE|6       |01/12/2010 8:26|3,39     |17850     |United Kingdom|\n",
            "|536365   |84029E   |RED WOOLLY HOTTIE WHITE HEART.     |6       |01/12/2010 8:26|3,39     |17850     |United Kingdom|\n",
            "+---------+---------+-----------------------------------+--------+---------------+---------+----------+--------------+\n",
            "only showing top 5 rows\n",
            "\n"
          ],
          "name": "stdout"
        }
      ]
    },
    {
      "cell_type": "markdown",
      "metadata": {
        "id": "v103wNYidcIu",
        "colab_type": "text"
      },
      "source": [
        " \n",
        "\n",
        "### count\n",
        "\n",
        "Cuenta el número de filas del DataFrame"
      ]
    },
    {
      "cell_type": "code",
      "metadata": {
        "id": "L4V7RidZdcIu",
        "colab_type": "code",
        "outputId": "98f5103f-9f80-44a8-b3e3-998f3cdb45cb",
        "colab": {}
      },
      "source": [
        "online_df.count()"
      ],
      "execution_count": 0,
      "outputs": [
        {
          "output_type": "execute_result",
          "data": {
            "text/plain": [
              "541909"
            ]
          },
          "metadata": {
            "tags": []
          },
          "execution_count": 25
        }
      ]
    },
    {
      "cell_type": "code",
      "metadata": {
        "id": "8Ga87Q8kdcIx",
        "colab_type": "code",
        "outputId": "dfe0593f-07e0-4261-eeac-ecbd65087420",
        "colab": {}
      },
      "source": [
        "buildings_df.count()"
      ],
      "execution_count": 0,
      "outputs": [
        {
          "output_type": "execute_result",
          "data": {
            "text/plain": [
              "198900"
            ]
          },
          "metadata": {
            "tags": []
          },
          "execution_count": 26
        }
      ]
    },
    {
      "cell_type": "markdown",
      "metadata": {
        "id": "GPa_CViidcI0",
        "colab_type": "text"
      },
      "source": [
        " \n",
        "\n",
        "### first\n",
        "\n",
        "Devuelve una única fila del DataFrame como un objeto de tipo `Row`. A los elementos del objeto `Row` se puede acceder tanto por nombre como por posición."
      ]
    },
    {
      "cell_type": "code",
      "metadata": {
        "id": "_tC7rv9cdcI0",
        "colab_type": "code",
        "outputId": "cca2f152-a6af-46e2-ff4f-789fce3a2765",
        "colab": {}
      },
      "source": [
        "single_row = online_df.first()\n",
        "single_row"
      ],
      "execution_count": 0,
      "outputs": [
        {
          "output_type": "execute_result",
          "data": {
            "text/plain": [
              "Row(InvoiceNo='536365', StockCode='85123A', Description='WHITE HANGING HEART T-LIGHT HOLDER', Quantity=6, InvoiceDate='01/12/2010 8:26', UnitPrice='2,55', CustomerID=17850, Country='United Kingdom')"
            ]
          },
          "metadata": {
            "tags": []
          },
          "execution_count": 27
        }
      ]
    },
    {
      "cell_type": "code",
      "metadata": {
        "id": "JCHJPPJydcI3",
        "colab_type": "code",
        "outputId": "cf5f84bb-091a-43d0-dd01-dada95a8a02b",
        "colab": {}
      },
      "source": [
        "type(single_row)"
      ],
      "execution_count": 0,
      "outputs": [
        {
          "output_type": "execute_result",
          "data": {
            "text/plain": [
              "pyspark.sql.types.Row"
            ]
          },
          "metadata": {
            "tags": []
          },
          "execution_count": 28
        }
      ]
    },
    {
      "cell_type": "code",
      "metadata": {
        "id": "m6TChSOndcI5",
        "colab_type": "code",
        "outputId": "c8d3009a-0b81-47b6-f398-3e164ad25c76",
        "colab": {}
      },
      "source": [
        "single_row[1]"
      ],
      "execution_count": 0,
      "outputs": [
        {
          "output_type": "execute_result",
          "data": {
            "text/plain": [
              "'85123A'"
            ]
          },
          "metadata": {
            "tags": []
          },
          "execution_count": 29
        }
      ]
    },
    {
      "cell_type": "code",
      "metadata": {
        "id": "5A0f7rg0dcI7",
        "colab_type": "code",
        "outputId": "81b2fb42-7423-4b1b-ea92-d8a7228f5955",
        "colab": {}
      },
      "source": [
        "single_row['StockCode']"
      ],
      "execution_count": 0,
      "outputs": [
        {
          "output_type": "execute_result",
          "data": {
            "text/plain": [
              "'85123A'"
            ]
          },
          "metadata": {
            "tags": []
          },
          "execution_count": 30
        }
      ]
    },
    {
      "cell_type": "markdown",
      "metadata": {
        "id": "hOCs3zsVdcI9",
        "colab_type": "text"
      },
      "source": [
        "\n",
        "\n",
        "### take\n",
        "\n",
        "Devuelve _n_ filas del DataFrame como una lista de objetos `Row`."
      ]
    },
    {
      "cell_type": "code",
      "metadata": {
        "id": "5VdRtxqgdcI-",
        "colab_type": "code",
        "outputId": "c9478d2a-4b32-41be-fef4-3cbac0708d84",
        "colab": {}
      },
      "source": [
        "row_list = online_df.take(4)\n",
        "row_list"
      ],
      "execution_count": 0,
      "outputs": [
        {
          "output_type": "execute_result",
          "data": {
            "text/plain": [
              "[Row(InvoiceNo='536365', StockCode='85123A', Description='WHITE HANGING HEART T-LIGHT HOLDER', Quantity=6, InvoiceDate='01/12/2010 8:26', UnitPrice='2,55', CustomerID=17850, Country='United Kingdom'),\n",
              " Row(InvoiceNo='536365', StockCode='71053', Description='WHITE METAL LANTERN', Quantity=6, InvoiceDate='01/12/2010 8:26', UnitPrice='3,39', CustomerID=17850, Country='United Kingdom'),\n",
              " Row(InvoiceNo='536365', StockCode='84406B', Description='CREAM CUPID HEARTS COAT HANGER', Quantity=8, InvoiceDate='01/12/2010 8:26', UnitPrice='2,75', CustomerID=17850, Country='United Kingdom'),\n",
              " Row(InvoiceNo='536365', StockCode='84029G', Description='KNITTED UNION FLAG HOT WATER BOTTLE', Quantity=6, InvoiceDate='01/12/2010 8:26', UnitPrice='3,39', CustomerID=17850, Country='United Kingdom')]"
            ]
          },
          "metadata": {
            "tags": []
          },
          "execution_count": 31
        }
      ]
    },
    {
      "cell_type": "code",
      "metadata": {
        "id": "Y5lTKjPGdcJA",
        "colab_type": "code",
        "outputId": "0c68709c-2664-4119-e964-cfa1796803b3",
        "colab": {}
      },
      "source": [
        "row_list[1]"
      ],
      "execution_count": 0,
      "outputs": [
        {
          "output_type": "execute_result",
          "data": {
            "text/plain": [
              "Row(InvoiceNo='536365', StockCode='71053', Description='WHITE METAL LANTERN', Quantity=6, InvoiceDate='01/12/2010 8:26', UnitPrice='3,39', CustomerID=17850, Country='United Kingdom')"
            ]
          },
          "metadata": {
            "tags": []
          },
          "execution_count": 32
        }
      ]
    },
    {
      "cell_type": "code",
      "metadata": {
        "id": "cy3Gmc5fdcJC",
        "colab_type": "code",
        "outputId": "ef7a0daf-8803-45d2-cbaa-277b3e2b2d7d",
        "colab": {}
      },
      "source": [
        "row_list[1][2]"
      ],
      "execution_count": 0,
      "outputs": [
        {
          "output_type": "execute_result",
          "data": {
            "text/plain": [
              "'WHITE METAL LANTERN'"
            ]
          },
          "metadata": {
            "tags": []
          },
          "execution_count": 33
        }
      ]
    },
    {
      "cell_type": "code",
      "metadata": {
        "id": "yiFNQVnEdcJF",
        "colab_type": "code",
        "outputId": "b05e2bff-19c8-4ec0-badc-ed9c95453d75",
        "colab": {}
      },
      "source": [
        "row_list[1]['Description']"
      ],
      "execution_count": 0,
      "outputs": [
        {
          "output_type": "execute_result",
          "data": {
            "text/plain": [
              "'WHITE METAL LANTERN'"
            ]
          },
          "metadata": {
            "tags": []
          },
          "execution_count": 34
        }
      ]
    },
    {
      "cell_type": "markdown",
      "metadata": {
        "id": "2p1hC3HWdcJH",
        "colab_type": "text"
      },
      "source": [
        " \n",
        "\n",
        "### collect\n",
        "\n",
        "Vuelca en un solo nodo todos los datos y los almacena en formato lista de Rows. Funciona como un `take` sin límite. Es una función a evitar salvo en ocasiones muy específicas donde sea necesario tener todos los datos en local y no haya otra forma de gestionarlos. Utilizar únicamente con datos filtrados y/o agregados."
      ]
    },
    {
      "cell_type": "code",
      "metadata": {
        "collapsed": true,
        "id": "-ja5U54edcJH",
        "colab_type": "code",
        "colab": {}
      },
      "source": [
        "all_rows = online_df.collect()"
      ],
      "execution_count": 0,
      "outputs": []
    },
    {
      "cell_type": "code",
      "metadata": {
        "id": "3g7048ixdcJL",
        "colab_type": "code",
        "outputId": "8d5c2726-cecc-4e13-bc38-8aea1bc5d667",
        "colab": {}
      },
      "source": [
        "len(all_rows)"
      ],
      "execution_count": 0,
      "outputs": [
        {
          "output_type": "execute_result",
          "data": {
            "text/plain": [
              "541909"
            ]
          },
          "metadata": {
            "tags": []
          },
          "execution_count": 36
        }
      ]
    },
    {
      "cell_type": "code",
      "metadata": {
        "id": "ycXDeX_7dcJN",
        "colab_type": "code",
        "outputId": "3f4e4cea-6208-4ffa-d97f-e4a99edd2745",
        "colab": {}
      },
      "source": [
        "all_rows[:4]"
      ],
      "execution_count": 0,
      "outputs": [
        {
          "output_type": "execute_result",
          "data": {
            "text/plain": [
              "[Row(InvoiceNo='536365', StockCode='85123A', Description='WHITE HANGING HEART T-LIGHT HOLDER', Quantity=6, InvoiceDate='01/12/2010 8:26', UnitPrice='2,55', CustomerID=17850, Country='United Kingdom'),\n",
              " Row(InvoiceNo='536365', StockCode='71053', Description='WHITE METAL LANTERN', Quantity=6, InvoiceDate='01/12/2010 8:26', UnitPrice='3,39', CustomerID=17850, Country='United Kingdom'),\n",
              " Row(InvoiceNo='536365', StockCode='84406B', Description='CREAM CUPID HEARTS COAT HANGER', Quantity=8, InvoiceDate='01/12/2010 8:26', UnitPrice='2,75', CustomerID=17850, Country='United Kingdom'),\n",
              " Row(InvoiceNo='536365', StockCode='84029G', Description='KNITTED UNION FLAG HOT WATER BOTTLE', Quantity=6, InvoiceDate='01/12/2010 8:26', UnitPrice='3,39', CustomerID=17850, Country='United Kingdom')]"
            ]
          },
          "metadata": {
            "tags": []
          },
          "execution_count": 37
        }
      ]
    },
    {
      "cell_type": "markdown",
      "metadata": {
        "id": "CW50Fc3vdcJR",
        "colab_type": "text"
      },
      "source": [
        "\n",
        "\n",
        "### toPandas\n",
        "\n",
        "Vuelca en un nodo todos los datos como un DataFrame de Pandas. Se deben seguir las mismas restricciones que con `collect`."
      ]
    },
    {
      "cell_type": "code",
      "metadata": {
        "id": "y7cU1hDodcJR",
        "colab_type": "code",
        "colab": {}
      },
      "source": [
        "online_pandas = online_df.toPandas()"
      ],
      "execution_count": 0,
      "outputs": []
    },
    {
      "cell_type": "code",
      "metadata": {
        "id": "CwndteXbdcJV",
        "colab_type": "code",
        "outputId": "2ea9bda4-18f6-49fc-8f9f-38b137c449c3",
        "colab": {}
      },
      "source": [
        "type(online_pandas)"
      ],
      "execution_count": 0,
      "outputs": [
        {
          "output_type": "execute_result",
          "data": {
            "text/plain": [
              "pandas.core.frame.DataFrame"
            ]
          },
          "metadata": {
            "tags": []
          },
          "execution_count": 39
        }
      ]
    },
    {
      "cell_type": "code",
      "metadata": {
        "id": "QExw_145dcJY",
        "colab_type": "code",
        "outputId": "d1520737-3837-499f-c239-216068489905",
        "colab": {}
      },
      "source": [
        "online_pandas.head(3)"
      ],
      "execution_count": 0,
      "outputs": [
        {
          "output_type": "execute_result",
          "data": {
            "text/html": [
              "<div>\n",
              "<style scoped>\n",
              "    .dataframe tbody tr th:only-of-type {\n",
              "        vertical-align: middle;\n",
              "    }\n",
              "\n",
              "    .dataframe tbody tr th {\n",
              "        vertical-align: top;\n",
              "    }\n",
              "\n",
              "    .dataframe thead th {\n",
              "        text-align: right;\n",
              "    }\n",
              "</style>\n",
              "<table border=\"1\" class=\"dataframe\">\n",
              "  <thead>\n",
              "    <tr style=\"text-align: right;\">\n",
              "      <th></th>\n",
              "      <th>InvoiceNo</th>\n",
              "      <th>StockCode</th>\n",
              "      <th>Description</th>\n",
              "      <th>Quantity</th>\n",
              "      <th>InvoiceDate</th>\n",
              "      <th>UnitPrice</th>\n",
              "      <th>CustomerID</th>\n",
              "      <th>Country</th>\n",
              "    </tr>\n",
              "  </thead>\n",
              "  <tbody>\n",
              "    <tr>\n",
              "      <th>0</th>\n",
              "      <td>536365</td>\n",
              "      <td>85123A</td>\n",
              "      <td>WHITE HANGING HEART T-LIGHT HOLDER</td>\n",
              "      <td>6</td>\n",
              "      <td>01/12/2010 8:26</td>\n",
              "      <td>2,55</td>\n",
              "      <td>17850.0</td>\n",
              "      <td>United Kingdom</td>\n",
              "    </tr>\n",
              "    <tr>\n",
              "      <th>1</th>\n",
              "      <td>536365</td>\n",
              "      <td>71053</td>\n",
              "      <td>WHITE METAL LANTERN</td>\n",
              "      <td>6</td>\n",
              "      <td>01/12/2010 8:26</td>\n",
              "      <td>3,39</td>\n",
              "      <td>17850.0</td>\n",
              "      <td>United Kingdom</td>\n",
              "    </tr>\n",
              "    <tr>\n",
              "      <th>2</th>\n",
              "      <td>536365</td>\n",
              "      <td>84406B</td>\n",
              "      <td>CREAM CUPID HEARTS COAT HANGER</td>\n",
              "      <td>8</td>\n",
              "      <td>01/12/2010 8:26</td>\n",
              "      <td>2,75</td>\n",
              "      <td>17850.0</td>\n",
              "      <td>United Kingdom</td>\n",
              "    </tr>\n",
              "  </tbody>\n",
              "</table>\n",
              "</div>"
            ],
            "text/plain": [
              "  InvoiceNo StockCode                         Description  Quantity  \\\n",
              "0    536365    85123A  WHITE HANGING HEART T-LIGHT HOLDER         6   \n",
              "1    536365     71053                 WHITE METAL LANTERN         6   \n",
              "2    536365    84406B      CREAM CUPID HEARTS COAT HANGER         8   \n",
              "\n",
              "       InvoiceDate UnitPrice  CustomerID         Country  \n",
              "0  01/12/2010 8:26      2,55     17850.0  United Kingdom  \n",
              "1  01/12/2010 8:26      3,39     17850.0  United Kingdom  \n",
              "2  01/12/2010 8:26      2,75     17850.0  United Kingdom  "
            ]
          },
          "metadata": {
            "tags": []
          },
          "execution_count": 40
        }
      ]
    },
    {
      "cell_type": "markdown",
      "metadata": {
        "id": "MLg1Qst_dcJb",
        "colab_type": "text"
      },
      "source": [
        " \n",
        "\n",
        "### write\n",
        "\n",
        "Guarda la información de la tabla en fichero. Se puede escribir tanto en texto plano (CSV) como en formato parquet."
      ]
    },
    {
      "cell_type": "code",
      "metadata": {
        "id": "P-doW2qVdcJb",
        "colab_type": "code",
        "colab": {}
      },
      "source": [
        "online_df.write.csv(DATA_PATH + 'online_reail.csv')"
      ],
      "execution_count": 0,
      "outputs": []
    },
    {
      "cell_type": "code",
      "metadata": {
        "id": "BBwREiWFdcJd",
        "colab_type": "code",
        "colab": {}
      },
      "source": [
        "online_df.write.parquet(DATA_PATH + 'online_retail.parquet')"
      ],
      "execution_count": 0,
      "outputs": []
    }
  ]
}