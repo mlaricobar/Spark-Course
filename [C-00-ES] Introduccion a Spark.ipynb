{
  "nbformat": 4,
  "nbformat_minor": 0,
  "metadata": {
    "kernelspec": {
      "display_name": "Python 3",
      "language": "python",
      "name": "python3"
    },
    "language_info": {
      "codemirror_mode": {
        "name": "ipython",
        "version": 3
      },
      "file_extension": ".py",
      "mimetype": "text/x-python",
      "name": "python",
      "nbconvert_exporter": "python",
      "pygments_lexer": "ipython3",
      "version": "3.6.3"
    },
    "name": "_merged",
    "colab": {
      "name": "06_K_Nearest_Neighbor.ipynb",
      "provenance": [],
      "include_colab_link": true
    }
  },
  "cells": [
    {
      "cell_type": "markdown",
      "metadata": {
        "id": "view-in-github",
        "colab_type": "text"
      },
      "source": [
        "<a href=\"https://colab.research.google.com/github/mlaricobar/Spark-Course/blob/master/%5BC-00-ES%5D%20Introduccion%20a%20Spark.ipynb\" target=\"_parent\"><img src=\"https://colab.research.google.com/assets/colab-badge.svg\" alt=\"Open In Colab\"/></a>"
      ]
    },
    {
      "cell_type": "markdown",
      "metadata": {
        "id": "gbfhjXF3LVex",
        "colab_type": "text"
      },
      "source": [
        "# <font color=#003d5c>I. Introducción a Spark</font>"
      ]
    },
    {
      "cell_type": "markdown",
      "metadata": {
        "id": "VvmJ5QFeL_9s",
        "colab_type": "text"
      },
      "source": [
        "## <font color=#003d5c>1.1. ¿Por qué Apache Spark?</font>"
      ]
    },
    {
      "cell_type": "markdown",
      "metadata": {
        "id": "fbpa8W1FNenb",
        "colab_type": "text"
      },
      "source": [
        "[Apache Spark](http://spark.apache.org/) es el motor de procesamiento de datos de [código abierto más activo](https://github.com/apache/spark/graphs/contributors) construido para una mayor velocidad, facilidad de uso y análisis avanzado, con más de 1000 colaboradores en más de 250 organizaciones y con una creciente comunidad de desarrolladores, adoptantes y usuarios. \n",
        "\n",
        "Además, como un motor de cálculo rápido de uso general diseñado para el procesamiento de datos distribuidos a gran escala, Spark soporta múltiples cargas de trabajo a través de un motor unificado compuesto por componentes de Spark que son accesibles por medio de APIs en los lenguajes de programación populares (Scala, Java, Python y R).\n",
        "\n",
        "Por último, Apache Spark se puede implementar en diferentes\n",
        "entornos, así como leer datos de varias fuentes de datos e interactuar con\n",
        "innumerables aplicaciones.\n",
        "\n",
        "<img src=\"https://github.com/mikolarico/spark-course-images/blob/master/spark-architecture-databricks.gif?raw=true\" width=\"600\">\n",
        "\n",
        "En conjunto, este [motor de cómputo unificado](https://cacm.acm.org/magazines/2016/11/209116-apache-spark/abstract) hace de Spark un entorno ideal para diversas cargas de trabajo: ETLs tradicionales, consultas interactivas o ad-hoc (Spark SQL), análisis avanzado (Machine Learning), procesamiento de grafos (GraphX / GraphFrames) y streaming (Streaming estructurado), ya que todos se ejecutan dentro del mismo motor.\n",
        "\n",
        "<img src=\"https://github.com/mikolarico/spark-course-images/blob/master/apache-spark-core-engine.png?raw=true\" width=\"600\">"
      ]
    },
    {
      "cell_type": "markdown",
      "metadata": {
        "id": "X72IX03EMRjh",
        "colab_type": "text"
      },
      "source": [
        "## <font color=#003d5c>1.2. Conceptos, palabras y términos claves de Apache Spark</font>\n",
        "\n",
        "Referencias: \n",
        "\n",
        "\n",
        "1.   [Apache Spark Key Terms Explained - KDnuggets](https://www.kdnuggets.com/2016/06/spark-key-terms-explained.html)\n",
        "2.   [Cluster Configuration Video - Udacity](https://www.youtube.com/watch?v=DpPD5hhvspg&feature=youtu.be)\n"
      ]
    },
    {
      "cell_type": "markdown",
      "metadata": {
        "id": "6NeOUl7hrwW_",
        "colab_type": "text"
      },
      "source": [
        "Arquitectura de Spark\n",
        "\n",
        "*   Spark Cluster\n",
        "\n",
        "Colección de máquinas o nodos en la nube o en un centro de datos privado on-premise en el que se encuentra instalado Spark. Entre esas máquinas se encuentran los Spark workers, un Spark Master (también un administrador de clúster en el modo Standalone) y al menos un Spark Driver.\n",
        "\n",
        "*   Spark Master\n",
        "\n",
        "En el modo de despliegue Standalone, el Spark Master actúa como un administrador de recursos y decide cuántos Executors se ejecutarán y en qué Workers del clúster lo harán.\n",
        "\n",
        "*   Spark Worker\n",
        "\n",
        "Al recibir instrucciones del Spark Master, el JVM de Spark Worker lanza los Executors en nombre del Spark Driver. Las aplicaciones de Spark, descompuestas en unidades de tareas, se ejecutan en el Executor de cada Worker.\n",
        "\n",
        "*   Spark Executor\n",
        "\n",
        "Un Spark Executor es un contenedor de JVM con una cantidad asignada de núcleos y memoria con la que Spark ejecuta sus tareas. Es decir, cada nodo Worker lanza su propio Spark Executor, con un número configurable de núcleos (o subprocesos). Además de ejecutar las tareas de Spark, un Executor también almacena todas las particiones de los datos en disco y en memoria caché.\n",
        "\n",
        "*   Spark Driver\n",
        "\n",
        "El programa Driver distribuye las tareas de Spark a cada Executor de cada Worker. El Driver también recibe resultados calculados de las tareas de cada Executor.\n",
        "\n",
        "<img src=\"https://github.com/mikolarico/spark-course-images/blob/master/spark-physical-cluster.png?raw=true\" width=\"600\">"
      ]
    },
    {
      "cell_type": "markdown",
      "metadata": {
        "id": "pLGZI52jrah6",
        "colab_type": "text"
      },
      "source": [
        "*   Modos de Despliegue de Spark\n",
        "\n",
        "Spark soporta cuatro modos de despliegue, cada uno con sus propias características con respecto a dónde se ejecutan los componentes de Spark dentro de un clúster. De todos los modos, el modo local, que se ejecuta en un solo nodo, es el más simple y es el que usaremos en esta sesión de Introducción debido a que es muy útil cuando se quiere aprender la sintaxis y cuando se quiere prototipar una solución.\n",
        "\n",
        "<img src=\"https://github.com/mikolarico/spark-course-images/blob/master/spark-mode-deployments.png?raw=true\" width=\"600\">\n",
        "\n",
        "*   SparkSession y SparkContext\n",
        "*   Spark Apps, Jobs, Stages y Tasks"
      ]
    },
    {
      "cell_type": "code",
      "metadata": {
        "id": "Nhr0_L_nruWF",
        "colab_type": "code",
        "outputId": "ceb3ff2b-2945-4a1d-8bf3-008bbb44589a",
        "colab": {
          "base_uri": "https://localhost:8080/",
          "height": 34
        }
      },
      "source": [
        "print(\"hola\")"
      ],
      "execution_count": 0,
      "outputs": [
        {
          "output_type": "stream",
          "text": [
            "hola\n"
          ],
          "name": "stdout"
        }
      ]
    },
    {
      "cell_type": "code",
      "metadata": {
        "id": "Tr52aUvFDJvM",
        "colab_type": "code",
        "colab": {}
      },
      "source": [
        "!apt-get install openjdk-8-jdk-headless -qq > /dev/null"
      ],
      "execution_count": 0,
      "outputs": []
    },
    {
      "cell_type": "code",
      "metadata": {
        "id": "AaWtTRMVDNGk",
        "colab_type": "code",
        "colab": {
          "base_uri": "https://localhost:8080/",
          "height": 187
        },
        "outputId": "db204da3-4ac5-415e-9ef6-f1d4dc519bb4"
      },
      "source": [
        "!ls -l /usr/lib/jvm/java-8-openjdk-amd64"
      ],
      "execution_count": 2,
      "outputs": [
        {
          "output_type": "stream",
          "text": [
            "total 20\n",
            "lrwxrwxrwx 1 root root   22 Oct 16 20:38 ASSEMBLY_EXCEPTION -> jre/ASSEMBLY_EXCEPTION\n",
            "drwxr-xr-x 2 root root 4096 Dec 18 16:47 bin\n",
            "lrwxrwxrwx 1 root root   41 Oct 16 20:38 docs -> ../../../share/doc/openjdk-8-jre-headless\n",
            "drwxr-xr-x 3 root root 4096 Dec 18 16:47 include\n",
            "drwxr-xr-x 5 root root 4096 Dec 18 16:45 jre\n",
            "drwxr-xr-x 3 root root 4096 Dec 18 16:47 lib\n",
            "drwxr-xr-x 4 root root 4096 Dec 18 16:45 man\n",
            "lrwxrwxrwx 1 root root   20 Oct 16 20:38 src.zip -> ../openjdk-8/src.zip\n",
            "lrwxrwxrwx 1 root root   22 Oct 16 20:38 THIRD_PARTY_README -> jre/THIRD_PARTY_README\n"
          ],
          "name": "stdout"
        }
      ]
    },
    {
      "cell_type": "code",
      "metadata": {
        "id": "SzfRz5NrDRE0",
        "colab_type": "code",
        "colab": {}
      },
      "source": [
        "import os"
      ],
      "execution_count": 0,
      "outputs": []
    },
    {
      "cell_type": "code",
      "metadata": {
        "id": "L6X8vf_FDRAU",
        "colab_type": "code",
        "colab": {}
      },
      "source": [
        "os.environ[\"JAVA_HOME\"] = \"/usr/lib/jvm/java-8-openjdk-amd64\""
      ],
      "execution_count": 0,
      "outputs": []
    },
    {
      "cell_type": "code",
      "metadata": {
        "id": "bc7gOsDkEnI3",
        "colab_type": "code",
        "colab": {
          "base_uri": "https://localhost:8080/",
          "height": 258
        },
        "outputId": "4085d307-6a92-44e1-de51-facb5abe7919"
      },
      "source": [
        "!pip install pyspark"
      ],
      "execution_count": 7,
      "outputs": [
        {
          "output_type": "stream",
          "text": [
            "Collecting pyspark\n",
            "\u001b[?25l  Downloading https://files.pythonhosted.org/packages/87/21/f05c186f4ddb01d15d0ddc36ef4b7e3cedbeb6412274a41f26b55a650ee5/pyspark-2.4.4.tar.gz (215.7MB)\n",
            "\u001b[K     |████████████████████████████████| 215.7MB 60kB/s \n",
            "\u001b[?25hCollecting py4j==0.10.7\n",
            "\u001b[?25l  Downloading https://files.pythonhosted.org/packages/e3/53/c737818eb9a7dc32a7cd4f1396e787bd94200c3997c72c1dbe028587bd76/py4j-0.10.7-py2.py3-none-any.whl (197kB)\n",
            "\u001b[K     |████████████████████████████████| 204kB 43.0MB/s \n",
            "\u001b[?25hBuilding wheels for collected packages: pyspark\n",
            "  Building wheel for pyspark (setup.py) ... \u001b[?25l\u001b[?25hdone\n",
            "  Created wheel for pyspark: filename=pyspark-2.4.4-py2.py3-none-any.whl size=216130387 sha256=d5781ebc91436f91c19857daa4c2edc258bf828c4e1b93ee5c04edd0cc009915\n",
            "  Stored in directory: /root/.cache/pip/wheels/ab/09/4d/0d184230058e654eb1b04467dbc1292f00eaa186544604b471\n",
            "Successfully built pyspark\n",
            "Installing collected packages: py4j, pyspark\n",
            "Successfully installed py4j-0.10.7 pyspark-2.4.4\n"
          ],
          "name": "stdout"
        }
      ]
    },
    {
      "cell_type": "code",
      "metadata": {
        "id": "AMpl005LEqDZ",
        "colab_type": "code",
        "colab": {}
      },
      "source": [
        "import pyspark.sql.functions as F\n",
        "from pyspark.sql import SparkSession"
      ],
      "execution_count": 0,
      "outputs": []
    },
    {
      "cell_type": "code",
      "metadata": {
        "id": "Mi0w7rUEEtYw",
        "colab_type": "code",
        "colab": {}
      },
      "source": [
        "spark = SparkSession.builder.master(\"local[*]\").getOrCreate()"
      ],
      "execution_count": 0,
      "outputs": []
    },
    {
      "cell_type": "markdown",
      "metadata": {
        "id": "_sVtP0X5MjTK",
        "colab_type": "text"
      },
      "source": [
        "## <font color=#003d5c>1.3. DataFrames, Datasets y Spark SQL</font>\n",
        "\n",
        "---\n",
        "\n"
      ]
    },
    {
      "cell_type": "markdown",
      "metadata": {
        "id": "0TFydtUQFFa0",
        "colab_type": "text"
      },
      "source": [
        "### <font color=#003d5c>**Caso de Uso**</font>"
      ]
    },
    {
      "cell_type": "code",
      "metadata": {
        "id": "rsAfJnI4DWa2",
        "colab_type": "code",
        "colab": {
          "base_uri": "https://localhost:8080/",
          "height": 122
        },
        "outputId": "3c603b25-a194-41c1-af2b-623787807ada"
      },
      "source": [
        "from google.colab import drive\n",
        "drive.mount('/gdrive')"
      ],
      "execution_count": 5,
      "outputs": [
        {
          "output_type": "stream",
          "text": [
            "Go to this URL in a browser: https://accounts.google.com/o/oauth2/auth?client_id=947318989803-6bn6qk8qdgf4n4g3pfee6491hc0brc4i.apps.googleusercontent.com&redirect_uri=urn%3aietf%3awg%3aoauth%3a2.0%3aoob&response_type=code&scope=email%20https%3a%2f%2fwww.googleapis.com%2fauth%2fdocs.test%20https%3a%2f%2fwww.googleapis.com%2fauth%2fdrive%20https%3a%2f%2fwww.googleapis.com%2fauth%2fdrive.photos.readonly%20https%3a%2f%2fwww.googleapis.com%2fauth%2fpeopleapi.readonly\n",
            "\n",
            "Enter your authorization code:\n",
            "··········\n",
            "Mounted at /gdrive\n"
          ],
          "name": "stdout"
        }
      ]
    },
    {
      "cell_type": "code",
      "metadata": {
        "id": "wdfPFUCPDWSb",
        "colab_type": "code",
        "colab": {
          "base_uri": "https://localhost:8080/",
          "height": 34
        },
        "outputId": "4e6e490b-8be9-441d-c039-24e34086129f"
      },
      "source": [
        "%cd /gdrive/'My Drive'/Competiciones/'[03] Datathon Interbank'/'[00] Data'"
      ],
      "execution_count": 6,
      "outputs": [
        {
          "output_type": "stream",
          "text": [
            "/gdrive/My Drive/Competiciones/[03] Datathon Interbank/[00] Data\n"
          ],
          "name": "stdout"
        }
      ]
    },
    {
      "cell_type": "code",
      "metadata": {
        "id": "6M_CXJynD6QI",
        "colab_type": "code",
        "colab": {}
      },
      "source": [
        "import pandas as pd"
      ],
      "execution_count": 0,
      "outputs": []
    },
    {
      "cell_type": "code",
      "metadata": {
        "id": "Kj6MOn3wD6Nx",
        "colab_type": "code",
        "colab": {}
      },
      "source": [
        "df_train = pd.read_csv(\"ib_base_inicial_train.csv\")\n",
        "df_test = pd.read_csv(\"ib_base_inicial_test.csv\")\n",
        "df_reniec = pd.read_csv(\"ib_base_reniec.csv\")"
      ],
      "execution_count": 0,
      "outputs": []
    },
    {
      "cell_type": "code",
      "metadata": {
        "id": "vBTSlMSxE3CM",
        "colab_type": "code",
        "colab": {}
      },
      "source": [
        "sdf_train = spark.createDataFrame(df_train)\n",
        "sdf_test = spark.createDataFrame(df_test)\n",
        "sdf_reniec = spark.createDataFrame(df_reniec)"
      ],
      "execution_count": 0,
      "outputs": []
    },
    {
      "cell_type": "code",
      "metadata": {
        "id": "gKbQVspSE2-2",
        "colab_type": "code",
        "colab": {
          "base_uri": "https://localhost:8080/",
          "height": 289
        },
        "outputId": "c427c833-1331-450e-a43c-9679169b7968"
      },
      "source": [
        "sdf_train.show(10)"
      ],
      "execution_count": 57,
      "outputs": [
        {
          "output_type": "stream",
          "text": [
            "+------+----------+---------+------+------+------------+--------------+\n",
            "|codmes|id_persona|codtarget|margen|   cem|ingreso_neto|linea_ofrecida|\n",
            "+------+----------+---------+------+------+------------+--------------+\n",
            "|201901|    165747|        0|  -5.0|   1.0|      1781.0|          1700|\n",
            "|201903|    100117|        0|  -5.0| 478.0|      2106.0|          2100|\n",
            "|201901|     65751|        1|342.99| 687.0|      3083.0|          4600|\n",
            "|201901|     58047|        0|  -5.0| 182.0|      1814.0|          3600|\n",
            "|201901|    113221|        0|  -5.0| 582.0|      2153.0|          4300|\n",
            "|201903|    247481|        0|  -5.0| 344.0|      1325.0|          1300|\n",
            "|201902|      2651|        0|  -5.0|4507.0|      9344.0|         23300|\n",
            "|201902|      5164|        0|  -5.0| 310.0|      3166.0|          6300|\n",
            "|201902|     81364|        0|  -5.0| 791.0|      1870.0|          1800|\n",
            "|201901|    142634|        0|  -5.0|4058.0|      7342.0|         33000|\n",
            "+------+----------+---------+------+------+------------+--------------+\n",
            "only showing top 10 rows\n",
            "\n"
          ],
          "name": "stdout"
        }
      ]
    },
    {
      "cell_type": "code",
      "metadata": {
        "id": "A5Vjf-sqN70q",
        "colab_type": "code",
        "colab": {
          "base_uri": "https://localhost:8080/",
          "height": 289
        },
        "outputId": "49ecb313-6928-46d5-8ce8-057a8771d860"
      },
      "source": [
        "sdf_test.show(10)"
      ],
      "execution_count": 58,
      "outputs": [
        {
          "output_type": "stream",
          "text": [
            "+------+----------+------+------------+--------------+-------------+\n",
            "|codmes|id_persona|   cem|ingreso_neto|linea_ofrecida|prediction_id|\n",
            "+------+----------+------+------------+--------------+-------------+\n",
            "|201907|    123381|   1.0|      1340.0|          2600|123381_201907|\n",
            "|201906|    125277|1412.0|      3166.0|          4700|125277_201906|\n",
            "|201906|      9564| 389.0|      2575.0|          5100|  9564_201906|\n",
            "|201906|    249494| 302.0|      1355.0|          1300|249494_201906|\n",
            "|201907|    131234|2130.0|     10486.0|         52400|131234_201907|\n",
            "|201907|     17651| 636.0|      1930.0|          1300| 17651_201907|\n",
            "|201905|    211794| 298.0|      3059.0|          6100|211794_201905|\n",
            "|201907|    224194| 323.0|      1325.0|          1000|224194_201907|\n",
            "|201907|     11651| 882.0|      3166.0|         14200| 11651_201907|\n",
            "|201906|    172417|2132.0|      4024.0|          2000|172417_201906|\n",
            "+------+----------+------+------------+--------------+-------------+\n",
            "only showing top 10 rows\n",
            "\n"
          ],
          "name": "stdout"
        }
      ]
    },
    {
      "cell_type": "code",
      "metadata": {
        "id": "jUzaPe1jE271",
        "colab_type": "code",
        "colab": {
          "base_uri": "https://localhost:8080/",
          "height": 51
        },
        "outputId": "b6d71b5b-8c7a-4c6d-88c6-ac604566b697"
      },
      "source": [
        "print(\"Cantidad de registros en la base de train: {0:,}\".format(sdf_train.count()))\n",
        "print(\"Cantidad de registros en la base de test: {0:,}\".format(sdf_test.count()))"
      ],
      "execution_count": 59,
      "outputs": [
        {
          "output_type": "stream",
          "text": [
            "Cantidad de registros en la base de train: 212,665\n",
            "Cantidad de registros en la base de test: 178,685\n"
          ],
          "name": "stdout"
        }
      ]
    },
    {
      "cell_type": "code",
      "metadata": {
        "id": "-hUHErtrE24p",
        "colab_type": "code",
        "colab": {
          "base_uri": "https://localhost:8080/",
          "height": 170
        },
        "outputId": "cc2cd8b1-fadb-474c-f03d-952c79a1ecf1"
      },
      "source": [
        "sdf_train.groupby(\"codmes\").agg(\n",
        "                                F.countDistinct(\"id_persona\").alias(\"count_distinct_id_persona\"),\n",
        "                                F.round(F.mean(\"ingreso_neto\"), 4).alias(\"mean_ingreso_neto\"),\n",
        "                                F.round(F.mean(\"linea_ofrecida\"), 4).alias(\"mean_linea_ofrecida\"),\n",
        "                                F.round(F.mean(\"cem\"), 4).alias(\"mean_cem_ofrecida\"),\n",
        "                                F.round(F.mean(\"codtarget\"), 4).alias(\"mean_codtarget\"),\n",
        "                                )\\\n",
        "                           .orderBy(F.desc(\"codmes\"))\\\n",
        "                           .show()"
      ],
      "execution_count": 60,
      "outputs": [
        {
          "output_type": "stream",
          "text": [
            "+------+-------------------------+-----------------+-------------------+-----------------+--------------+\n",
            "|codmes|count_distinct_id_persona|mean_ingreso_neto|mean_linea_ofrecida|mean_cem_ofrecida|mean_codtarget|\n",
            "+------+-------------------------+-----------------+-------------------+-----------------+--------------+\n",
            "|201904|                    60065|        3155.0792|          8251.2578|         873.9625|        0.1466|\n",
            "|201903|                    52387|        3045.8381|          7803.4092|         878.5347|        0.1622|\n",
            "|201902|                    46125|        3056.4067|           7608.555|         849.3362|        0.1491|\n",
            "|201901|                    54088|        3270.0494|          8641.0535|         865.0523|        0.1257|\n",
            "+------+-------------------------+-----------------+-------------------+-----------------+--------------+\n",
            "\n"
          ],
          "name": "stdout"
        }
      ]
    },
    {
      "cell_type": "markdown",
      "metadata": {
        "id": "gCowiBpbLkO3",
        "colab_type": "text"
      },
      "source": [
        "#### **Creación del Target de predicción**\n",
        "Se opta por construir un target binario, para establecer quienes son clientes rentables y, por tanto, es conveniente hacerles campaña para atraerlos."
      ]
    },
    {
      "cell_type": "code",
      "metadata": {
        "id": "taNnT3V3Lgmm",
        "colab_type": "code",
        "colab": {}
      },
      "source": [
        "sdf_train = sdf_train.withColumn(\"prediction_id\", F.concat(\"id_persona\", F.lit(\"_\") , \"codmes\"))\\\n",
        "                     .withColumn(\"new_target\", F.when(F.col(\"margen\") > 0, 1).otherwise(0))"
      ],
      "execution_count": 0,
      "outputs": []
    },
    {
      "cell_type": "code",
      "metadata": {
        "id": "ClivzRK7Mkza",
        "colab_type": "code",
        "colab": {
          "base_uri": "https://localhost:8080/",
          "height": 459
        },
        "outputId": "aea8855d-365b-479a-97b3-9481dee88f4f"
      },
      "source": [
        "sdf_train.show()"
      ],
      "execution_count": 62,
      "outputs": [
        {
          "output_type": "stream",
          "text": [
            "+------+----------+---------+--------+------+------------+--------------+-------------+----------+\n",
            "|codmes|id_persona|codtarget|  margen|   cem|ingreso_neto|linea_ofrecida|prediction_id|new_target|\n",
            "+------+----------+---------+--------+------+------------+--------------+-------------+----------+\n",
            "|201901|    165747|        0|    -5.0|   1.0|      1781.0|          1700|165747_201901|         0|\n",
            "|201903|    100117|        0|    -5.0| 478.0|      2106.0|          2100|100117_201903|         0|\n",
            "|201901|     65751|        1|  342.99| 687.0|      3083.0|          4600| 65751_201901|         1|\n",
            "|201901|     58047|        0|    -5.0| 182.0|      1814.0|          3600| 58047_201901|         0|\n",
            "|201901|    113221|        0|    -5.0| 582.0|      2153.0|          4300|113221_201901|         0|\n",
            "|201903|    247481|        0|    -5.0| 344.0|      1325.0|          1300|247481_201903|         0|\n",
            "|201902|      2651|        0|    -5.0|4507.0|      9344.0|         23300|  2651_201902|         0|\n",
            "|201902|      5164|        0|    -5.0| 310.0|      3166.0|          6300|  5164_201902|         0|\n",
            "|201902|     81364|        0|    -5.0| 791.0|      1870.0|          1800| 81364_201902|         0|\n",
            "|201901|    142634|        0|    -5.0|4058.0|      7342.0|         33000|142634_201901|         0|\n",
            "|201904|     31864|        0|    -5.0| 577.0|      1750.0|          1200| 31864_201904|         0|\n",
            "|201903|    204321|        0|    -5.0| 352.0|      1423.0|          3500|204321_201903|         0|\n",
            "|201902|    206604|        1|    -5.0| 531.0|      2520.0|          8800|206604_201902|         0|\n",
            "|201903|    230894|        0|    -5.0|1024.0|      3024.0|         16600|230894_201903|         0|\n",
            "|201903|      2451|        1|   -4.67| 324.0|      4536.0|          6800|  2451_201903|         0|\n",
            "|201904|     95347|        1|37.07786| 831.0|      2662.0|          5300| 95347_201904|         1|\n",
            "|201901|     13204|        0|    -5.0| 126.0|      4776.0|         11900| 13204_201901|         0|\n",
            "|201902|    236904|        0|    -5.0| 409.0|      1955.0|          3900|236904_201902|         0|\n",
            "|201902|     76777|        0|    -5.0|2520.0|      4870.0|         21900| 76777_201902|         0|\n",
            "|201903|    230317|        0|    -5.0|1272.0|      3007.0|         12000|230317_201903|         0|\n",
            "+------+----------+---------+--------+------+------------+--------------+-------------+----------+\n",
            "only showing top 20 rows\n",
            "\n"
          ],
          "name": "stdout"
        }
      ]
    },
    {
      "cell_type": "code",
      "metadata": {
        "id": "SjN-JyjQQZAy",
        "colab_type": "code",
        "colab": {}
      },
      "source": [
        "sdf_test = sdf_test.withColumn(\"codtarget\", F.lit(None)).withColumn(\"new_target\", F.lit(None)).withColumn(\"margen\", F.lit(None))"
      ],
      "execution_count": 0,
      "outputs": []
    },
    {
      "cell_type": "code",
      "metadata": {
        "id": "Ciol1wDXNcgR",
        "colab_type": "code",
        "colab": {}
      },
      "source": [
        "base_cols = [\"prediction_id\", \"id_persona\", \"codmes\", \"codtarget\", \"new_target\", \"margen\", \"cem\", \"ingreso_neto\", \"linea_ofrecida\"]\n",
        "sdf_base = sdf_train.select(base_cols)\\\n",
        "                    .union(sdf_test.select(base_cols))"
      ],
      "execution_count": 0,
      "outputs": []
    },
    {
      "cell_type": "code",
      "metadata": {
        "id": "4L9WBJduPsaz",
        "colab_type": "code",
        "colab": {
          "base_uri": "https://localhost:8080/",
          "height": 221
        },
        "outputId": "cd48370b-46b1-4740-db30-46202d5635ef"
      },
      "source": [
        "sdf_base.groupby(\"codmes\").agg(\n",
        "                                F.countDistinct(\"id_persona\").alias(\"count_distinct_id_persona\"),\n",
        "                                F.round(F.mean(\"ingreso_neto\"), 4).alias(\"mean_ingreso_neto\"),\n",
        "                                F.round(F.mean(\"linea_ofrecida\"), 4).alias(\"mean_linea_ofrecida\"),\n",
        "                                F.round(F.mean(\"cem\"), 4).alias(\"mean_cem_ofrecida\"),\n",
        "                                F.round(F.mean(\"codtarget\"), 4).alias(\"mean_codtarget\"),\n",
        "                                F.round(F.mean(\"new_target\"), 4).alias(\"mean_new_target\"),\n",
        "                                )\\\n",
        "                           .orderBy(F.desc(\"codmes\"))\\\n",
        "                           .show()"
      ],
      "execution_count": 65,
      "outputs": [
        {
          "output_type": "stream",
          "text": [
            "+------+-------------------------+-----------------+-------------------+-----------------+--------------+---------------+\n",
            "|codmes|count_distinct_id_persona|mean_ingreso_neto|mean_linea_ofrecida|mean_cem_ofrecida|mean_codtarget|mean_new_target|\n",
            "+------+-------------------------+-----------------+-------------------+-----------------+--------------+---------------+\n",
            "|201907|                    61720|        3126.0186|          8580.8166|         876.9611|          null|           null|\n",
            "|201906|                    58370|        3196.5067|          8576.7312|         891.5957|          null|           null|\n",
            "|201905|                    58595|        3164.4807|          8262.9456|         852.4406|          null|           null|\n",
            "|201904|                    60065|        3155.0792|          8251.2578|         873.9625|        0.1466|         0.1025|\n",
            "|201903|                    52387|        3045.8381|          7803.4092|         878.5347|        0.1622|         0.1146|\n",
            "|201902|                    46125|        3056.4067|           7608.555|         849.3362|        0.1491|         0.0967|\n",
            "|201901|                    54088|        3270.0494|          8641.0535|         865.0523|        0.1257|         0.0771|\n",
            "+------+-------------------------+-----------------+-------------------+-----------------+--------------+---------------+\n",
            "\n"
          ],
          "name": "stdout"
        }
      ]
    },
    {
      "cell_type": "markdown",
      "metadata": {
        "id": "HBjEQFNqSEeq",
        "colab_type": "text"
      },
      "source": [
        "#### **Base de Reniec**\n"
      ]
    },
    {
      "cell_type": "code",
      "metadata": {
        "id": "XuT8Exx8QsXJ",
        "colab_type": "code",
        "colab": {
          "base_uri": "https://localhost:8080/",
          "height": 459
        },
        "outputId": "6fec4d48-ff1a-4c60-c9cb-ef59c885c29a"
      },
      "source": [
        "sdf_reniec.show()"
      ],
      "execution_count": 66,
      "outputs": [
        {
          "output_type": "stream",
          "text": [
            "+----------+-------------------+--------+--------+--------+--------+--------+\n",
            "|id_persona|           soc_var1|soc_var2|soc_var3|soc_var4|soc_var5|soc_var6|\n",
            "+----------+-------------------+--------+--------+--------+--------+--------+\n",
            "|    219861| 0.8867924528301887|       4|       2|       6|       5|    10.0|\n",
            "|    105627| 0.6415094339622642|       4|       2|       1|       2|     8.0|\n",
            "|     94514| 0.4905660377358491|       4|       2|       6|       5|    10.0|\n",
            "|     55357| 0.5849056603773584|       4|       2|       6|       5|     1.0|\n",
            "|     79861| 0.6037735849056604|       4|       1|       6|       5|     9.0|\n",
            "|     59001| 0.6037735849056604|       3|       2|       6|       5|     2.0|\n",
            "|    254831| 0.5471698113207547|       4|       1|       6|       5|     8.0|\n",
            "|     64401|0.28301886792452835|       4|       1|       6|       5|    11.0|\n",
            "|    102561| 0.6226415094339623|       4|       2|       6|       5|     4.0|\n",
            "|     83657| 0.5849056603773584|       4|       2|       6|       5|    10.0|\n",
            "|    207727| 0.8679245283018868|       4|       2|       6|       5|     9.0|\n",
            "|     95791|0.22641509433962265|       4|       1|       6|       5|    10.0|\n",
            "|     38574|0.43396226415094336|       4|       2|       6|       5|     3.0|\n",
            "|    105991| 0.5094339622641509|       3|       1|       6|       5|     2.0|\n",
            "|      8427| 0.5283018867924528|       4|       2|       6|       5|     8.0|\n",
            "|    109401| 0.6415094339622642|       3|       2|       1|       1|     8.0|\n",
            "|    146491| 0.7358490566037734|       4|       1|       6|       5|     9.0|\n",
            "|    118461| 0.6226415094339623|       4|       1|       6|       5|    10.0|\n",
            "|    233027| 0.8679245283018868|       4|       1|       6|       5|     3.0|\n",
            "|    185814| 0.8113207547169812|       4|       1|       6|       5|     7.0|\n",
            "+----------+-------------------+--------+--------+--------+--------+--------+\n",
            "only showing top 20 rows\n",
            "\n"
          ],
          "name": "stdout"
        }
      ]
    },
    {
      "cell_type": "markdown",
      "metadata": {
        "id": "Pc9DXy1oSr3y",
        "colab_type": "text"
      },
      "source": [
        "#### **Base de RCC**"
      ]
    },
    {
      "cell_type": "code",
      "metadata": {
        "id": "ILE3AesqQsUx",
        "colab_type": "code",
        "colab": {}
      },
      "source": [
        "df_rcc = pd.read_csv(\"ib_base_rcc.csv\")"
      ],
      "execution_count": 0,
      "outputs": []
    },
    {
      "cell_type": "code",
      "metadata": {
        "id": "FBDH2u91QsRo",
        "colab_type": "code",
        "colab": {}
      },
      "source": [
        "sdf_rcc = spark.createDataFrame(df_rcc)"
      ],
      "execution_count": 0,
      "outputs": []
    },
    {
      "cell_type": "code",
      "metadata": {
        "id": "bCVk7U5KTkP6",
        "colab_type": "code",
        "colab": {}
      },
      "source": [
        "sdf_rcc.show()"
      ],
      "execution_count": 0,
      "outputs": []
    },
    {
      "cell_type": "code",
      "metadata": {
        "id": "caa7eySzTkLT",
        "colab_type": "code",
        "colab": {}
      },
      "source": [
        ""
      ],
      "execution_count": 0,
      "outputs": []
    },
    {
      "cell_type": "code",
      "metadata": {
        "id": "kMOvdElAD6Kq",
        "colab_type": "code",
        "colab": {}
      },
      "source": [
        ""
      ],
      "execution_count": 0,
      "outputs": []
    },
    {
      "cell_type": "markdown",
      "metadata": {
        "id": "V1pM0uB5MSaN",
        "colab_type": "text"
      },
      "source": [
        "## <font color=#003d5c>1.4. Apache Spark for Machine Learning</font>"
      ]
    },
    {
      "cell_type": "markdown",
      "metadata": {
        "id": "bl7K1SGJMSUH",
        "colab_type": "text"
      },
      "source": [
        "## <font color=#003d5c>1.5. Spark Streaming y Structured Streaming</font>"
      ]
    },
    {
      "cell_type": "markdown",
      "metadata": {
        "id": "9btkTdP3MSQ2",
        "colab_type": "text"
      },
      "source": [
        "## <font color=#003d5c>1.6. Procesamiento de grafos con GraphFrames</font>"
      ]
    },
    {
      "cell_type": "code",
      "metadata": {
        "id": "V29g50FYXDqE",
        "colab_type": "code",
        "colab": {}
      },
      "source": [
        ""
      ],
      "execution_count": 0,
      "outputs": []
    }
  ]
}